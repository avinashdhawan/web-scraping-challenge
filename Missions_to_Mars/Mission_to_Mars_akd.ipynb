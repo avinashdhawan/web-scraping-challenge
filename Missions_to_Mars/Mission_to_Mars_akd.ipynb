{
 "cells": [
  {
   "cell_type": "code",
   "execution_count": 133,
   "metadata": {},
   "outputs": [],
   "source": [
    "# Dependencies\n",
    "from splinter import Browser\n",
    "from bs4 import BeautifulSoup"
   ]
  },
  {
   "cell_type": "code",
   "execution_count": 134,
   "metadata": {},
   "outputs": [],
   "source": [
    "executable_path = {'executable_path': 'chromedriver.exe'}\n",
    "browser = Browser('chrome', **executable_path, headless=False)"
   ]
  },
  {
   "cell_type": "code",
   "execution_count": 135,
   "metadata": {},
   "outputs": [],
   "source": [
    "# URL of page to be scraped\n",
    "url = 'https://mars.nasa.gov/news/?page=0&per_page=40&order=publish_date+desc%2Ccreated_at+desc&search=&category=19%2C165%2C184%2C204&blank_scope=Latest'\n",
    "browser.visit(url)\n",
    "import time\n",
    "time.sleep(10)\n",
    "html = browser.html\n",
    "# Parse HTML with Beautiful Soup\n",
    "soup = BeautifulSoup(html, 'html.parser')\n"
   ]
  },
  {
   "cell_type": "code",
   "execution_count": null,
   "metadata": {},
   "outputs": [],
   "source": [
    "\n",
    "\n",
    "  \n",
    " "
   ]
  },
  {
   "cell_type": "code",
   "execution_count": 4,
   "metadata": {
    "scrolled": false
   },
   "outputs": [],
   "source": [
    "\n",
    "# Retrieve all elements that contain book information\n",
    "articles = soup.find_all(\"div\", class_=\"list_text\")\n"
   ]
  },
  {
   "cell_type": "code",
   "execution_count": 54,
   "metadata": {},
   "outputs": [
    {
     "name": "stdout",
     "output_type": "stream",
     "text": [
      "-----------\n",
      "NASA's Perseverance Rover Will Look at Mars Through These 'Eyes'\n",
      "-----------\n",
      "Meet the People Behind NASA's Perseverance Rover\n",
      "-----------\n",
      "Q&A with the Student Who Named Ingenuity, NASA's Mars Helicopter\n",
      "-----------\n",
      "Alabama High School Student Names NASA's Mars Helicopter\n",
      "-----------\n",
      "How NASA's Perseverance Mars Team Adjusted to Work in the Time of Coronavirus \n",
      "-----------\n",
      "NASA's Perseverance Mars Rover Gets Balanced\n",
      "-----------\n",
      "NASA's Curiosity Keeps Rolling As Team Operates Rover From Home\n",
      "-----------\n",
      "Mars Helicopter Attached to NASA's Perseverance Rover\n",
      "-----------\n",
      "NASA's Perseverance Mars Rover Gets Its Wheels and Air Brakes\n",
      "-----------\n",
      "The Man Who Wanted to Fly on Mars\n",
      "-----------\n",
      "10.9 Million Names Now Aboard NASA's Perseverance Mars Rover\n",
      "-----------\n",
      "NASA's Curiosity Mars Rover Takes a New Selfie Before Record Climb\n",
      "-----------\n",
      "NASA's Mars Perseverance Rover Gets Its Sample Handling System\n",
      "-----------\n",
      "Virginia Middle School Student Earns Honor of Naming NASA's Next Mars Rover\n",
      "-----------\n",
      "NASA's Curiosity Mars Rover Snaps Its Highest-Resolution Panorama Yet\n",
      "-----------\n",
      "NASA to Reveal Name of Its Next Mars Rover\n",
      "-----------\n",
      "The MarCO Mission Comes to an End\n",
      "-----------\n",
      "A Year of Surprising Science From NASA's InSight Mars Mission\n",
      "-----------\n",
      "Mars InSight Lander to Push on Top of the 'Mole'\n",
      "-----------\n",
      "Common Questions about InSight's 'Mole'\n",
      "-----------\n",
      "NASA Adds Return Sample Scientists to Mars 2020 Leadership Team\n",
      "-----------\n",
      "NASA's Mars Reconnaissance Orbiter Undergoes Memory Update\n",
      "-----------\n",
      "NASA's Mars 2020 Rover Goes Coast-to-Coast to Prep for Launch\n",
      "-----------\n",
      "NASA Prepares for Moon and Mars With New Addition to Its Deep Space Network\n",
      "-----------\n",
      "NASA Administrator Statement on Moon to Mars Initiative, FY 2021 Budget\n",
      "-----------\n",
      "All About the Laser (and Microphone) Atop Mars 2020, NASA's Next Rover\n",
      "-----------\n",
      "NASA's MAVEN Explores Mars to Understand Radio Interference at Earth\n",
      "-----------\n",
      "Nine Finalists Chosen in NASA's Mars 2020 Rover Naming Contest\n",
      "-----------\n",
      "NASA's Mars 2020 Rover Closer to Getting Its Name\n",
      "-----------\n",
      "Media Get a Close-Up of NASA's Mars 2020 Rover\n",
      "-----------\n",
      "Space History Is Made in This NASA Robot Factory\n",
      "-----------\n",
      "NASA's Mars 2020 Rover Completes Its First Drive\n",
      "-----------\n",
      "NASA's MAVEN Maps Winds in the Martian Upper Atmosphere that Mirror the Terrain Below and Gives Clues to Martian Climate\n",
      "-----------\n",
      "Newfound Martian Aurora Actually the Most Common; Sheds Light on Mars' Changing Climate\n",
      "-----------\n",
      "NASA's Treasure Map for Water Ice on Mars\n",
      "-----------\n",
      "Two Rovers to Roll on Mars Again: Curiosity and Mars 2020\n",
      "-----------\n",
      "NASA's Briefcase-Size MarCO Satellite Picks Up Honors\n",
      "-----------\n",
      "Global Storms on Mars Launch Dust Towers Into the Sky\n",
      "-----------\n",
      "NASA Updates Mars 2020 Mission Environmental Review\n",
      "-----------\n",
      "Two of a Space Kind: Apollo 12 and Mars 2020\n"
     ]
    }
   ],
   "source": [
    "    titles =[]\n",
    "    \n",
    "    for article in articles:\n",
    "        # Use Beautiful Soup's find() method to navigate and retrieve attributes\n",
    "        a = article.find('a').text\n",
    "        titles.append(a)\n",
    "        print('-----------')\n",
    "        print(a)\n",
    "\n",
    "\n",
    "#     # Click the 'Next' button on each page\n",
    "#     try:\n",
    "#         browser.click_link_by_partial_text('next')\n",
    "          \n",
    "#     except:\n",
    "#         print(\"Scraping Complete\")\n",
    "\n"
   ]
  },
  {
   "cell_type": "code",
   "execution_count": 6,
   "metadata": {},
   "outputs": [
    {
     "data": {
      "text/plain": [
       "\"NASA's Perseverance Rover Will Look at Mars Through These 'Eyes'\""
      ]
     },
     "execution_count": 6,
     "metadata": {},
     "output_type": "execute_result"
    }
   ],
   "source": [
    "titles[0]"
   ]
  },
  {
   "cell_type": "code",
   "execution_count": 51,
   "metadata": {},
   "outputs": [
    {
     "name": "stdout",
     "output_type": "stream",
     "text": [
      "-----------\n",
      "['A pair of zoomable cameras will help scientists and rover drivers with high-resolution color images.']\n",
      "-----------\n",
      "['A pair of zoomable cameras will help scientists and rover drivers with high-resolution color images.', \"These are the scientists and engineers who built NASA's next Mars rover and who will guide it to a safe landing in Jezero Crater. \"]\n",
      "-----------\n",
      "['A pair of zoomable cameras will help scientists and rover drivers with high-resolution color images.', \"These are the scientists and engineers who built NASA's next Mars rover and who will guide it to a safe landing in Jezero Crater. \", 'As a longtime fan of space exploration, Vaneeza Rupani appreciates the creativity and collaboration involved with trying to fly on another planet.']\n",
      "-----------\n",
      "['A pair of zoomable cameras will help scientists and rover drivers with high-resolution color images.', \"These are the scientists and engineers who built NASA's next Mars rover and who will guide it to a safe landing in Jezero Crater. \", 'As a longtime fan of space exploration, Vaneeza Rupani appreciates the creativity and collaboration involved with trying to fly on another planet.', \"Vaneeza Rupani's essay was chosen as the name for the small spacecraft, which will mark NASA's first attempt at powered flight on another planet.\"]\n",
      "-----------\n",
      "['A pair of zoomable cameras will help scientists and rover drivers with high-resolution color images.', \"These are the scientists and engineers who built NASA's next Mars rover and who will guide it to a safe landing in Jezero Crater. \", 'As a longtime fan of space exploration, Vaneeza Rupani appreciates the creativity and collaboration involved with trying to fly on another planet.', \"Vaneeza Rupani's essay was chosen as the name for the small spacecraft, which will mark NASA's first attempt at powered flight on another planet.\", 'Like much of the rest of the world, the Mars rover team is pushing forward with its mission-critical work while putting the health and safety of their colleagues and community first.']\n",
      "-----------\n",
      "['A pair of zoomable cameras will help scientists and rover drivers with high-resolution color images.', \"These are the scientists and engineers who built NASA's next Mars rover and who will guide it to a safe landing in Jezero Crater. \", 'As a longtime fan of space exploration, Vaneeza Rupani appreciates the creativity and collaboration involved with trying to fly on another planet.', \"Vaneeza Rupani's essay was chosen as the name for the small spacecraft, which will mark NASA's first attempt at powered flight on another planet.\", 'Like much of the rest of the world, the Mars rover team is pushing forward with its mission-critical work while putting the health and safety of their colleagues and community first.', \"The mission team performed a crucial weight-balancing test on the rover in preparation for this summer's history-making launch to the Red Planet.\"]\n",
      "-----------\n",
      "['A pair of zoomable cameras will help scientists and rover drivers with high-resolution color images.', \"These are the scientists and engineers who built NASA's next Mars rover and who will guide it to a safe landing in Jezero Crater. \", 'As a longtime fan of space exploration, Vaneeza Rupani appreciates the creativity and collaboration involved with trying to fly on another planet.', \"Vaneeza Rupani's essay was chosen as the name for the small spacecraft, which will mark NASA's first attempt at powered flight on another planet.\", 'Like much of the rest of the world, the Mars rover team is pushing forward with its mission-critical work while putting the health and safety of their colleagues and community first.', \"The mission team performed a crucial weight-balancing test on the rover in preparation for this summer's history-making launch to the Red Planet.\", 'The team has learned to meet new challenges as they work remotely on the Mars mission.']\n",
      "-----------\n",
      "['A pair of zoomable cameras will help scientists and rover drivers with high-resolution color images.', \"These are the scientists and engineers who built NASA's next Mars rover and who will guide it to a safe landing in Jezero Crater. \", 'As a longtime fan of space exploration, Vaneeza Rupani appreciates the creativity and collaboration involved with trying to fly on another planet.', \"Vaneeza Rupani's essay was chosen as the name for the small spacecraft, which will mark NASA's first attempt at powered flight on another planet.\", 'Like much of the rest of the world, the Mars rover team is pushing forward with its mission-critical work while putting the health and safety of their colleagues and community first.', \"The mission team performed a crucial weight-balancing test on the rover in preparation for this summer's history-making launch to the Red Planet.\", 'The team has learned to meet new challenges as they work remotely on the Mars mission.', \"The team also fueled the rover's sky crane to get ready for this summer's history-making launch.\"]\n",
      "-----------\n",
      "['A pair of zoomable cameras will help scientists and rover drivers with high-resolution color images.', \"These are the scientists and engineers who built NASA's next Mars rover and who will guide it to a safe landing in Jezero Crater. \", 'As a longtime fan of space exploration, Vaneeza Rupani appreciates the creativity and collaboration involved with trying to fly on another planet.', \"Vaneeza Rupani's essay was chosen as the name for the small spacecraft, which will mark NASA's first attempt at powered flight on another planet.\", 'Like much of the rest of the world, the Mars rover team is pushing forward with its mission-critical work while putting the health and safety of their colleagues and community first.', \"The mission team performed a crucial weight-balancing test on the rover in preparation for this summer's history-making launch to the Red Planet.\", 'The team has learned to meet new challenges as they work remotely on the Mars mission.', \"The team also fueled the rover's sky crane to get ready for this summer's history-making launch.\", 'After the rover was shipped from JPL to Kennedy Space Center, the team is getting closer to finalizing the spacecraft for launch later this summer.']\n",
      "-----------\n",
      "['A pair of zoomable cameras will help scientists and rover drivers with high-resolution color images.', \"These are the scientists and engineers who built NASA's next Mars rover and who will guide it to a safe landing in Jezero Crater. \", 'As a longtime fan of space exploration, Vaneeza Rupani appreciates the creativity and collaboration involved with trying to fly on another planet.', \"Vaneeza Rupani's essay was chosen as the name for the small spacecraft, which will mark NASA's first attempt at powered flight on another planet.\", 'Like much of the rest of the world, the Mars rover team is pushing forward with its mission-critical work while putting the health and safety of their colleagues and community first.', \"The mission team performed a crucial weight-balancing test on the rover in preparation for this summer's history-making launch to the Red Planet.\", 'The team has learned to meet new challenges as they work remotely on the Mars mission.', \"The team also fueled the rover's sky crane to get ready for this summer's history-making launch.\", 'After the rover was shipped from JPL to Kennedy Space Center, the team is getting closer to finalizing the spacecraft for launch later this summer.', \"The Mars Helicopter is riding to the Red Planet this summer with NASA's Perseverance rover. The helicopter's chief engineer, Bob Balaram, shares the saga of how it came into being.\"]\n",
      "-----------\n",
      "['A pair of zoomable cameras will help scientists and rover drivers with high-resolution color images.', \"These are the scientists and engineers who built NASA's next Mars rover and who will guide it to a safe landing in Jezero Crater. \", 'As a longtime fan of space exploration, Vaneeza Rupani appreciates the creativity and collaboration involved with trying to fly on another planet.', \"Vaneeza Rupani's essay was chosen as the name for the small spacecraft, which will mark NASA's first attempt at powered flight on another planet.\", 'Like much of the rest of the world, the Mars rover team is pushing forward with its mission-critical work while putting the health and safety of their colleagues and community first.', \"The mission team performed a crucial weight-balancing test on the rover in preparation for this summer's history-making launch to the Red Planet.\", 'The team has learned to meet new challenges as they work remotely on the Mars mission.', \"The team also fueled the rover's sky crane to get ready for this summer's history-making launch.\", 'After the rover was shipped from JPL to Kennedy Space Center, the team is getting closer to finalizing the spacecraft for launch later this summer.', \"The Mars Helicopter is riding to the Red Planet this summer with NASA's Perseverance rover. The helicopter's chief engineer, Bob Balaram, shares the saga of how it came into being.\", \"As part of NASA's 'Send Your Name to Mars' campaign, they've been stenciled onto three microchips along with essays from NASA's 'Name the Rover' contest. Next stop: Mars.\"]\n",
      "-----------\n",
      "['A pair of zoomable cameras will help scientists and rover drivers with high-resolution color images.', \"These are the scientists and engineers who built NASA's next Mars rover and who will guide it to a safe landing in Jezero Crater. \", 'As a longtime fan of space exploration, Vaneeza Rupani appreciates the creativity and collaboration involved with trying to fly on another planet.', \"Vaneeza Rupani's essay was chosen as the name for the small spacecraft, which will mark NASA's first attempt at powered flight on another planet.\", 'Like much of the rest of the world, the Mars rover team is pushing forward with its mission-critical work while putting the health and safety of their colleagues and community first.', \"The mission team performed a crucial weight-balancing test on the rover in preparation for this summer's history-making launch to the Red Planet.\", 'The team has learned to meet new challenges as they work remotely on the Mars mission.', \"The team also fueled the rover's sky crane to get ready for this summer's history-making launch.\", 'After the rover was shipped from JPL to Kennedy Space Center, the team is getting closer to finalizing the spacecraft for launch later this summer.', \"The Mars Helicopter is riding to the Red Planet this summer with NASA's Perseverance rover. The helicopter's chief engineer, Bob Balaram, shares the saga of how it came into being.\", \"As part of NASA's 'Send Your Name to Mars' campaign, they've been stenciled onto three microchips along with essays from NASA's 'Name the Rover' contest. Next stop: Mars.\", 'Along with capturing an image before its steepest ascent ever, the robotic explorer filmed its \"selfie stick,\" or robotic arm, in action.']\n",
      "-----------\n",
      "['A pair of zoomable cameras will help scientists and rover drivers with high-resolution color images.', \"These are the scientists and engineers who built NASA's next Mars rover and who will guide it to a safe landing in Jezero Crater. \", 'As a longtime fan of space exploration, Vaneeza Rupani appreciates the creativity and collaboration involved with trying to fly on another planet.', \"Vaneeza Rupani's essay was chosen as the name for the small spacecraft, which will mark NASA's first attempt at powered flight on another planet.\", 'Like much of the rest of the world, the Mars rover team is pushing forward with its mission-critical work while putting the health and safety of their colleagues and community first.', \"The mission team performed a crucial weight-balancing test on the rover in preparation for this summer's history-making launch to the Red Planet.\", 'The team has learned to meet new challenges as they work remotely on the Mars mission.', \"The team also fueled the rover's sky crane to get ready for this summer's history-making launch.\", 'After the rover was shipped from JPL to Kennedy Space Center, the team is getting closer to finalizing the spacecraft for launch later this summer.', \"The Mars Helicopter is riding to the Red Planet this summer with NASA's Perseverance rover. The helicopter's chief engineer, Bob Balaram, shares the saga of how it came into being.\", \"As part of NASA's 'Send Your Name to Mars' campaign, they've been stenciled onto three microchips along with essays from NASA's 'Name the Rover' contest. Next stop: Mars.\", 'Along with capturing an image before its steepest ascent ever, the robotic explorer filmed its \"selfie stick,\" or robotic arm, in action.', 'The system will be collecting and storing Martian rock and soil. Its installation marks another milestone in the march toward the July launch period.']\n",
      "-----------\n",
      "['A pair of zoomable cameras will help scientists and rover drivers with high-resolution color images.', \"These are the scientists and engineers who built NASA's next Mars rover and who will guide it to a safe landing in Jezero Crater. \", 'As a longtime fan of space exploration, Vaneeza Rupani appreciates the creativity and collaboration involved with trying to fly on another planet.', \"Vaneeza Rupani's essay was chosen as the name for the small spacecraft, which will mark NASA's first attempt at powered flight on another planet.\", 'Like much of the rest of the world, the Mars rover team is pushing forward with its mission-critical work while putting the health and safety of their colleagues and community first.', \"The mission team performed a crucial weight-balancing test on the rover in preparation for this summer's history-making launch to the Red Planet.\", 'The team has learned to meet new challenges as they work remotely on the Mars mission.', \"The team also fueled the rover's sky crane to get ready for this summer's history-making launch.\", 'After the rover was shipped from JPL to Kennedy Space Center, the team is getting closer to finalizing the spacecraft for launch later this summer.', \"The Mars Helicopter is riding to the Red Planet this summer with NASA's Perseverance rover. The helicopter's chief engineer, Bob Balaram, shares the saga of how it came into being.\", \"As part of NASA's 'Send Your Name to Mars' campaign, they've been stenciled onto three microchips along with essays from NASA's 'Name the Rover' contest. Next stop: Mars.\", 'Along with capturing an image before its steepest ascent ever, the robotic explorer filmed its \"selfie stick,\" or robotic arm, in action.', 'The system will be collecting and storing Martian rock and soil. Its installation marks another milestone in the march toward the July launch period.', 'NASA chose a seventh-grader from Virginia as winner of the agency\\'s \"Name the Rover\" essay contest. Alexander Mather\\'s entry for \"Perseverance\" was voted tops among 28,000 entries. ']\n",
      "-----------\n",
      "['A pair of zoomable cameras will help scientists and rover drivers with high-resolution color images.', \"These are the scientists and engineers who built NASA's next Mars rover and who will guide it to a safe landing in Jezero Crater. \", 'As a longtime fan of space exploration, Vaneeza Rupani appreciates the creativity and collaboration involved with trying to fly on another planet.', \"Vaneeza Rupani's essay was chosen as the name for the small spacecraft, which will mark NASA's first attempt at powered flight on another planet.\", 'Like much of the rest of the world, the Mars rover team is pushing forward with its mission-critical work while putting the health and safety of their colleagues and community first.', \"The mission team performed a crucial weight-balancing test on the rover in preparation for this summer's history-making launch to the Red Planet.\", 'The team has learned to meet new challenges as they work remotely on the Mars mission.', \"The team also fueled the rover's sky crane to get ready for this summer's history-making launch.\", 'After the rover was shipped from JPL to Kennedy Space Center, the team is getting closer to finalizing the spacecraft for launch later this summer.', \"The Mars Helicopter is riding to the Red Planet this summer with NASA's Perseverance rover. The helicopter's chief engineer, Bob Balaram, shares the saga of how it came into being.\", \"As part of NASA's 'Send Your Name to Mars' campaign, they've been stenciled onto three microchips along with essays from NASA's 'Name the Rover' contest. Next stop: Mars.\", 'Along with capturing an image before its steepest ascent ever, the robotic explorer filmed its \"selfie stick,\" or robotic arm, in action.', 'The system will be collecting and storing Martian rock and soil. Its installation marks another milestone in the march toward the July launch period.', 'NASA chose a seventh-grader from Virginia as winner of the agency\\'s \"Name the Rover\" essay contest. Alexander Mather\\'s entry for \"Perseverance\" was voted tops among 28,000 entries. ', 'To go along with the stunning 1.8-billion-pixel image, a new video offers a sweeping view of the Red Planet.']\n",
      "-----------\n",
      "['A pair of zoomable cameras will help scientists and rover drivers with high-resolution color images.', \"These are the scientists and engineers who built NASA's next Mars rover and who will guide it to a safe landing in Jezero Crater. \", 'As a longtime fan of space exploration, Vaneeza Rupani appreciates the creativity and collaboration involved with trying to fly on another planet.', \"Vaneeza Rupani's essay was chosen as the name for the small spacecraft, which will mark NASA's first attempt at powered flight on another planet.\", 'Like much of the rest of the world, the Mars rover team is pushing forward with its mission-critical work while putting the health and safety of their colleagues and community first.', \"The mission team performed a crucial weight-balancing test on the rover in preparation for this summer's history-making launch to the Red Planet.\", 'The team has learned to meet new challenges as they work remotely on the Mars mission.', \"The team also fueled the rover's sky crane to get ready for this summer's history-making launch.\", 'After the rover was shipped from JPL to Kennedy Space Center, the team is getting closer to finalizing the spacecraft for launch later this summer.', \"The Mars Helicopter is riding to the Red Planet this summer with NASA's Perseverance rover. The helicopter's chief engineer, Bob Balaram, shares the saga of how it came into being.\", \"As part of NASA's 'Send Your Name to Mars' campaign, they've been stenciled onto three microchips along with essays from NASA's 'Name the Rover' contest. Next stop: Mars.\", 'Along with capturing an image before its steepest ascent ever, the robotic explorer filmed its \"selfie stick,\" or robotic arm, in action.', 'The system will be collecting and storing Martian rock and soil. Its installation marks another milestone in the march toward the July launch period.', 'NASA chose a seventh-grader from Virginia as winner of the agency\\'s \"Name the Rover\" essay contest. Alexander Mather\\'s entry for \"Perseverance\" was voted tops among 28,000 entries. ', 'To go along with the stunning 1.8-billion-pixel image, a new video offers a sweeping view of the Red Planet.', \"After a months-long contest among students to name NASA's newest Mars rover, the agency will reveal the winning name — and the winning student — this Thursday. \"]\n",
      "-----------\n",
      "['A pair of zoomable cameras will help scientists and rover drivers with high-resolution color images.', \"These are the scientists and engineers who built NASA's next Mars rover and who will guide it to a safe landing in Jezero Crater. \", 'As a longtime fan of space exploration, Vaneeza Rupani appreciates the creativity and collaboration involved with trying to fly on another planet.', \"Vaneeza Rupani's essay was chosen as the name for the small spacecraft, which will mark NASA's first attempt at powered flight on another planet.\", 'Like much of the rest of the world, the Mars rover team is pushing forward with its mission-critical work while putting the health and safety of their colleagues and community first.', \"The mission team performed a crucial weight-balancing test on the rover in preparation for this summer's history-making launch to the Red Planet.\", 'The team has learned to meet new challenges as they work remotely on the Mars mission.', \"The team also fueled the rover's sky crane to get ready for this summer's history-making launch.\", 'After the rover was shipped from JPL to Kennedy Space Center, the team is getting closer to finalizing the spacecraft for launch later this summer.', \"The Mars Helicopter is riding to the Red Planet this summer with NASA's Perseverance rover. The helicopter's chief engineer, Bob Balaram, shares the saga of how it came into being.\", \"As part of NASA's 'Send Your Name to Mars' campaign, they've been stenciled onto three microchips along with essays from NASA's 'Name the Rover' contest. Next stop: Mars.\", 'Along with capturing an image before its steepest ascent ever, the robotic explorer filmed its \"selfie stick,\" or robotic arm, in action.', 'The system will be collecting and storing Martian rock and soil. Its installation marks another milestone in the march toward the July launch period.', 'NASA chose a seventh-grader from Virginia as winner of the agency\\'s \"Name the Rover\" essay contest. Alexander Mather\\'s entry for \"Perseverance\" was voted tops among 28,000 entries. ', 'To go along with the stunning 1.8-billion-pixel image, a new video offers a sweeping view of the Red Planet.', \"After a months-long contest among students to name NASA's newest Mars rover, the agency will reveal the winning name — and the winning student — this Thursday. \", 'The pair of briefcase-sized satellites made history when they sailed past Mars in 2019.']\n",
      "-----------\n",
      "['A pair of zoomable cameras will help scientists and rover drivers with high-resolution color images.', \"These are the scientists and engineers who built NASA's next Mars rover and who will guide it to a safe landing in Jezero Crater. \", 'As a longtime fan of space exploration, Vaneeza Rupani appreciates the creativity and collaboration involved with trying to fly on another planet.', \"Vaneeza Rupani's essay was chosen as the name for the small spacecraft, which will mark NASA's first attempt at powered flight on another planet.\", 'Like much of the rest of the world, the Mars rover team is pushing forward with its mission-critical work while putting the health and safety of their colleagues and community first.', \"The mission team performed a crucial weight-balancing test on the rover in preparation for this summer's history-making launch to the Red Planet.\", 'The team has learned to meet new challenges as they work remotely on the Mars mission.', \"The team also fueled the rover's sky crane to get ready for this summer's history-making launch.\", 'After the rover was shipped from JPL to Kennedy Space Center, the team is getting closer to finalizing the spacecraft for launch later this summer.', \"The Mars Helicopter is riding to the Red Planet this summer with NASA's Perseverance rover. The helicopter's chief engineer, Bob Balaram, shares the saga of how it came into being.\", \"As part of NASA's 'Send Your Name to Mars' campaign, they've been stenciled onto three microchips along with essays from NASA's 'Name the Rover' contest. Next stop: Mars.\", 'Along with capturing an image before its steepest ascent ever, the robotic explorer filmed its \"selfie stick,\" or robotic arm, in action.', 'The system will be collecting and storing Martian rock and soil. Its installation marks another milestone in the march toward the July launch period.', 'NASA chose a seventh-grader from Virginia as winner of the agency\\'s \"Name the Rover\" essay contest. Alexander Mather\\'s entry for \"Perseverance\" was voted tops among 28,000 entries. ', 'To go along with the stunning 1.8-billion-pixel image, a new video offers a sweeping view of the Red Planet.', \"After a months-long contest among students to name NASA's newest Mars rover, the agency will reveal the winning name — and the winning student — this Thursday. \", 'The pair of briefcase-sized satellites made history when they sailed past Mars in 2019.', \"A batch of new papers summarizes the lander's findings above and below the surface of the Red Planet.\"]\n",
      "-----------\n",
      "['A pair of zoomable cameras will help scientists and rover drivers with high-resolution color images.', \"These are the scientists and engineers who built NASA's next Mars rover and who will guide it to a safe landing in Jezero Crater. \", 'As a longtime fan of space exploration, Vaneeza Rupani appreciates the creativity and collaboration involved with trying to fly on another planet.', \"Vaneeza Rupani's essay was chosen as the name for the small spacecraft, which will mark NASA's first attempt at powered flight on another planet.\", 'Like much of the rest of the world, the Mars rover team is pushing forward with its mission-critical work while putting the health and safety of their colleagues and community first.', \"The mission team performed a crucial weight-balancing test on the rover in preparation for this summer's history-making launch to the Red Planet.\", 'The team has learned to meet new challenges as they work remotely on the Mars mission.', \"The team also fueled the rover's sky crane to get ready for this summer's history-making launch.\", 'After the rover was shipped from JPL to Kennedy Space Center, the team is getting closer to finalizing the spacecraft for launch later this summer.', \"The Mars Helicopter is riding to the Red Planet this summer with NASA's Perseverance rover. The helicopter's chief engineer, Bob Balaram, shares the saga of how it came into being.\", \"As part of NASA's 'Send Your Name to Mars' campaign, they've been stenciled onto three microchips along with essays from NASA's 'Name the Rover' contest. Next stop: Mars.\", 'Along with capturing an image before its steepest ascent ever, the robotic explorer filmed its \"selfie stick,\" or robotic arm, in action.', 'The system will be collecting and storing Martian rock and soil. Its installation marks another milestone in the march toward the July launch period.', 'NASA chose a seventh-grader from Virginia as winner of the agency\\'s \"Name the Rover\" essay contest. Alexander Mather\\'s entry for \"Perseverance\" was voted tops among 28,000 entries. ', 'To go along with the stunning 1.8-billion-pixel image, a new video offers a sweeping view of the Red Planet.', \"After a months-long contest among students to name NASA's newest Mars rover, the agency will reveal the winning name — and the winning student — this Thursday. \", 'The pair of briefcase-sized satellites made history when they sailed past Mars in 2019.', \"A batch of new papers summarizes the lander's findings above and below the surface of the Red Planet.\", 'Engineers have a plan for pushing down on the heat probe, which has been stuck at the Martian surface for a year.']\n",
      "-----------\n",
      "['A pair of zoomable cameras will help scientists and rover drivers with high-resolution color images.', \"These are the scientists and engineers who built NASA's next Mars rover and who will guide it to a safe landing in Jezero Crater. \", 'As a longtime fan of space exploration, Vaneeza Rupani appreciates the creativity and collaboration involved with trying to fly on another planet.', \"Vaneeza Rupani's essay was chosen as the name for the small spacecraft, which will mark NASA's first attempt at powered flight on another planet.\", 'Like much of the rest of the world, the Mars rover team is pushing forward with its mission-critical work while putting the health and safety of their colleagues and community first.', \"The mission team performed a crucial weight-balancing test on the rover in preparation for this summer's history-making launch to the Red Planet.\", 'The team has learned to meet new challenges as they work remotely on the Mars mission.', \"The team also fueled the rover's sky crane to get ready for this summer's history-making launch.\", 'After the rover was shipped from JPL to Kennedy Space Center, the team is getting closer to finalizing the spacecraft for launch later this summer.', \"The Mars Helicopter is riding to the Red Planet this summer with NASA's Perseverance rover. The helicopter's chief engineer, Bob Balaram, shares the saga of how it came into being.\", \"As part of NASA's 'Send Your Name to Mars' campaign, they've been stenciled onto three microchips along with essays from NASA's 'Name the Rover' contest. Next stop: Mars.\", 'Along with capturing an image before its steepest ascent ever, the robotic explorer filmed its \"selfie stick,\" or robotic arm, in action.', 'The system will be collecting and storing Martian rock and soil. Its installation marks another milestone in the march toward the July launch period.', 'NASA chose a seventh-grader from Virginia as winner of the agency\\'s \"Name the Rover\" essay contest. Alexander Mather\\'s entry for \"Perseverance\" was voted tops among 28,000 entries. ', 'To go along with the stunning 1.8-billion-pixel image, a new video offers a sweeping view of the Red Planet.', \"After a months-long contest among students to name NASA's newest Mars rover, the agency will reveal the winning name — and the winning student — this Thursday. \", 'The pair of briefcase-sized satellites made history when they sailed past Mars in 2019.', \"A batch of new papers summarizes the lander's findings above and below the surface of the Red Planet.\", 'Engineers have a plan for pushing down on the heat probe, which has been stuck at the Martian surface for a year.', 'The following Q&As with members of the team answer some of the most common questions about the burrowing device, part of a science instrument called the Heat Flow and Physical Properties Package (HP3).']\n",
      "-----------\n",
      "['A pair of zoomable cameras will help scientists and rover drivers with high-resolution color images.', \"These are the scientists and engineers who built NASA's next Mars rover and who will guide it to a safe landing in Jezero Crater. \", 'As a longtime fan of space exploration, Vaneeza Rupani appreciates the creativity and collaboration involved with trying to fly on another planet.', \"Vaneeza Rupani's essay was chosen as the name for the small spacecraft, which will mark NASA's first attempt at powered flight on another planet.\", 'Like much of the rest of the world, the Mars rover team is pushing forward with its mission-critical work while putting the health and safety of their colleagues and community first.', \"The mission team performed a crucial weight-balancing test on the rover in preparation for this summer's history-making launch to the Red Planet.\", 'The team has learned to meet new challenges as they work remotely on the Mars mission.', \"The team also fueled the rover's sky crane to get ready for this summer's history-making launch.\", 'After the rover was shipped from JPL to Kennedy Space Center, the team is getting closer to finalizing the spacecraft for launch later this summer.', \"The Mars Helicopter is riding to the Red Planet this summer with NASA's Perseverance rover. The helicopter's chief engineer, Bob Balaram, shares the saga of how it came into being.\", \"As part of NASA's 'Send Your Name to Mars' campaign, they've been stenciled onto three microchips along with essays from NASA's 'Name the Rover' contest. Next stop: Mars.\", 'Along with capturing an image before its steepest ascent ever, the robotic explorer filmed its \"selfie stick,\" or robotic arm, in action.', 'The system will be collecting and storing Martian rock and soil. Its installation marks another milestone in the march toward the July launch period.', 'NASA chose a seventh-grader from Virginia as winner of the agency\\'s \"Name the Rover\" essay contest. Alexander Mather\\'s entry for \"Perseverance\" was voted tops among 28,000 entries. ', 'To go along with the stunning 1.8-billion-pixel image, a new video offers a sweeping view of the Red Planet.', \"After a months-long contest among students to name NASA's newest Mars rover, the agency will reveal the winning name — and the winning student — this Thursday. \", 'The pair of briefcase-sized satellites made history when they sailed past Mars in 2019.', \"A batch of new papers summarizes the lander's findings above and below the surface of the Red Planet.\", 'Engineers have a plan for pushing down on the heat probe, which has been stuck at the Martian surface for a year.', 'The following Q&As with members of the team answer some of the most common questions about the burrowing device, part of a science instrument called the Heat Flow and Physical Properties Package (HP3).', 'The leadership council for Mars 2020 science added two new members who represent the interests of scientists destined to handle and study the first samples from Red Planet.']\n",
      "-----------\n",
      "['A pair of zoomable cameras will help scientists and rover drivers with high-resolution color images.', \"These are the scientists and engineers who built NASA's next Mars rover and who will guide it to a safe landing in Jezero Crater. \", 'As a longtime fan of space exploration, Vaneeza Rupani appreciates the creativity and collaboration involved with trying to fly on another planet.', \"Vaneeza Rupani's essay was chosen as the name for the small spacecraft, which will mark NASA's first attempt at powered flight on another planet.\", 'Like much of the rest of the world, the Mars rover team is pushing forward with its mission-critical work while putting the health and safety of their colleagues and community first.', \"The mission team performed a crucial weight-balancing test on the rover in preparation for this summer's history-making launch to the Red Planet.\", 'The team has learned to meet new challenges as they work remotely on the Mars mission.', \"The team also fueled the rover's sky crane to get ready for this summer's history-making launch.\", 'After the rover was shipped from JPL to Kennedy Space Center, the team is getting closer to finalizing the spacecraft for launch later this summer.', \"The Mars Helicopter is riding to the Red Planet this summer with NASA's Perseverance rover. The helicopter's chief engineer, Bob Balaram, shares the saga of how it came into being.\", \"As part of NASA's 'Send Your Name to Mars' campaign, they've been stenciled onto three microchips along with essays from NASA's 'Name the Rover' contest. Next stop: Mars.\", 'Along with capturing an image before its steepest ascent ever, the robotic explorer filmed its \"selfie stick,\" or robotic arm, in action.', 'The system will be collecting and storing Martian rock and soil. Its installation marks another milestone in the march toward the July launch period.', 'NASA chose a seventh-grader from Virginia as winner of the agency\\'s \"Name the Rover\" essay contest. Alexander Mather\\'s entry for \"Perseverance\" was voted tops among 28,000 entries. ', 'To go along with the stunning 1.8-billion-pixel image, a new video offers a sweeping view of the Red Planet.', \"After a months-long contest among students to name NASA's newest Mars rover, the agency will reveal the winning name — and the winning student — this Thursday. \", 'The pair of briefcase-sized satellites made history when they sailed past Mars in 2019.', \"A batch of new papers summarizes the lander's findings above and below the surface of the Red Planet.\", 'Engineers have a plan for pushing down on the heat probe, which has been stuck at the Martian surface for a year.', 'The following Q&As with members of the team answer some of the most common questions about the burrowing device, part of a science instrument called the Heat Flow and Physical Properties Package (HP3).', 'The leadership council for Mars 2020 science added two new members who represent the interests of scientists destined to handle and study the first samples from Red Planet.', 'Other orbiters will continue relaying data from Mars surface missions for a two-week period.']\n",
      "-----------\n",
      "['A pair of zoomable cameras will help scientists and rover drivers with high-resolution color images.', \"These are the scientists and engineers who built NASA's next Mars rover and who will guide it to a safe landing in Jezero Crater. \", 'As a longtime fan of space exploration, Vaneeza Rupani appreciates the creativity and collaboration involved with trying to fly on another planet.', \"Vaneeza Rupani's essay was chosen as the name for the small spacecraft, which will mark NASA's first attempt at powered flight on another planet.\", 'Like much of the rest of the world, the Mars rover team is pushing forward with its mission-critical work while putting the health and safety of their colleagues and community first.', \"The mission team performed a crucial weight-balancing test on the rover in preparation for this summer's history-making launch to the Red Planet.\", 'The team has learned to meet new challenges as they work remotely on the Mars mission.', \"The team also fueled the rover's sky crane to get ready for this summer's history-making launch.\", 'After the rover was shipped from JPL to Kennedy Space Center, the team is getting closer to finalizing the spacecraft for launch later this summer.', \"The Mars Helicopter is riding to the Red Planet this summer with NASA's Perseverance rover. The helicopter's chief engineer, Bob Balaram, shares the saga of how it came into being.\", \"As part of NASA's 'Send Your Name to Mars' campaign, they've been stenciled onto three microchips along with essays from NASA's 'Name the Rover' contest. Next stop: Mars.\", 'Along with capturing an image before its steepest ascent ever, the robotic explorer filmed its \"selfie stick,\" or robotic arm, in action.', 'The system will be collecting and storing Martian rock and soil. Its installation marks another milestone in the march toward the July launch period.', 'NASA chose a seventh-grader from Virginia as winner of the agency\\'s \"Name the Rover\" essay contest. Alexander Mather\\'s entry for \"Perseverance\" was voted tops among 28,000 entries. ', 'To go along with the stunning 1.8-billion-pixel image, a new video offers a sweeping view of the Red Planet.', \"After a months-long contest among students to name NASA's newest Mars rover, the agency will reveal the winning name — and the winning student — this Thursday. \", 'The pair of briefcase-sized satellites made history when they sailed past Mars in 2019.', \"A batch of new papers summarizes the lander's findings above and below the surface of the Red Planet.\", 'Engineers have a plan for pushing down on the heat probe, which has been stuck at the Martian surface for a year.', 'The following Q&As with members of the team answer some of the most common questions about the burrowing device, part of a science instrument called the Heat Flow and Physical Properties Package (HP3).', 'The leadership council for Mars 2020 science added two new members who represent the interests of scientists destined to handle and study the first samples from Red Planet.', 'Other orbiters will continue relaying data from Mars surface missions for a two-week period.', \"The agency's first step in returning rocks from Mars just arrived at Kennedy Space Center. The Mars 2020 team now begins readying for a launch to the Red Planet this July.\"]\n",
      "-----------\n",
      "['A pair of zoomable cameras will help scientists and rover drivers with high-resolution color images.', \"These are the scientists and engineers who built NASA's next Mars rover and who will guide it to a safe landing in Jezero Crater. \", 'As a longtime fan of space exploration, Vaneeza Rupani appreciates the creativity and collaboration involved with trying to fly on another planet.', \"Vaneeza Rupani's essay was chosen as the name for the small spacecraft, which will mark NASA's first attempt at powered flight on another planet.\", 'Like much of the rest of the world, the Mars rover team is pushing forward with its mission-critical work while putting the health and safety of their colleagues and community first.', \"The mission team performed a crucial weight-balancing test on the rover in preparation for this summer's history-making launch to the Red Planet.\", 'The team has learned to meet new challenges as they work remotely on the Mars mission.', \"The team also fueled the rover's sky crane to get ready for this summer's history-making launch.\", 'After the rover was shipped from JPL to Kennedy Space Center, the team is getting closer to finalizing the spacecraft for launch later this summer.', \"The Mars Helicopter is riding to the Red Planet this summer with NASA's Perseverance rover. The helicopter's chief engineer, Bob Balaram, shares the saga of how it came into being.\", \"As part of NASA's 'Send Your Name to Mars' campaign, they've been stenciled onto three microchips along with essays from NASA's 'Name the Rover' contest. Next stop: Mars.\", 'Along with capturing an image before its steepest ascent ever, the robotic explorer filmed its \"selfie stick,\" or robotic arm, in action.', 'The system will be collecting and storing Martian rock and soil. Its installation marks another milestone in the march toward the July launch period.', 'NASA chose a seventh-grader from Virginia as winner of the agency\\'s \"Name the Rover\" essay contest. Alexander Mather\\'s entry for \"Perseverance\" was voted tops among 28,000 entries. ', 'To go along with the stunning 1.8-billion-pixel image, a new video offers a sweeping view of the Red Planet.', \"After a months-long contest among students to name NASA's newest Mars rover, the agency will reveal the winning name — and the winning student — this Thursday. \", 'The pair of briefcase-sized satellites made history when they sailed past Mars in 2019.', \"A batch of new papers summarizes the lander's findings above and below the surface of the Red Planet.\", 'Engineers have a plan for pushing down on the heat probe, which has been stuck at the Martian surface for a year.', 'The following Q&As with members of the team answer some of the most common questions about the burrowing device, part of a science instrument called the Heat Flow and Physical Properties Package (HP3).', 'The leadership council for Mars 2020 science added two new members who represent the interests of scientists destined to handle and study the first samples from Red Planet.', 'Other orbiters will continue relaying data from Mars surface missions for a two-week period.', \"The agency's first step in returning rocks from Mars just arrived at Kennedy Space Center. The Mars 2020 team now begins readying for a launch to the Red Planet this July.\", 'Robotic spacecraft will be able to communicate with the dish using radio waves and lasers.']\n",
      "-----------\n",
      "['A pair of zoomable cameras will help scientists and rover drivers with high-resolution color images.', \"These are the scientists and engineers who built NASA's next Mars rover and who will guide it to a safe landing in Jezero Crater. \", 'As a longtime fan of space exploration, Vaneeza Rupani appreciates the creativity and collaboration involved with trying to fly on another planet.', \"Vaneeza Rupani's essay was chosen as the name for the small spacecraft, which will mark NASA's first attempt at powered flight on another planet.\", 'Like much of the rest of the world, the Mars rover team is pushing forward with its mission-critical work while putting the health and safety of their colleagues and community first.', \"The mission team performed a crucial weight-balancing test on the rover in preparation for this summer's history-making launch to the Red Planet.\", 'The team has learned to meet new challenges as they work remotely on the Mars mission.', \"The team also fueled the rover's sky crane to get ready for this summer's history-making launch.\", 'After the rover was shipped from JPL to Kennedy Space Center, the team is getting closer to finalizing the spacecraft for launch later this summer.', \"The Mars Helicopter is riding to the Red Planet this summer with NASA's Perseverance rover. The helicopter's chief engineer, Bob Balaram, shares the saga of how it came into being.\", \"As part of NASA's 'Send Your Name to Mars' campaign, they've been stenciled onto three microchips along with essays from NASA's 'Name the Rover' contest. Next stop: Mars.\", 'Along with capturing an image before its steepest ascent ever, the robotic explorer filmed its \"selfie stick,\" or robotic arm, in action.', 'The system will be collecting and storing Martian rock and soil. Its installation marks another milestone in the march toward the July launch period.', 'NASA chose a seventh-grader from Virginia as winner of the agency\\'s \"Name the Rover\" essay contest. Alexander Mather\\'s entry for \"Perseverance\" was voted tops among 28,000 entries. ', 'To go along with the stunning 1.8-billion-pixel image, a new video offers a sweeping view of the Red Planet.', \"After a months-long contest among students to name NASA's newest Mars rover, the agency will reveal the winning name — and the winning student — this Thursday. \", 'The pair of briefcase-sized satellites made history when they sailed past Mars in 2019.', \"A batch of new papers summarizes the lander's findings above and below the surface of the Red Planet.\", 'Engineers have a plan for pushing down on the heat probe, which has been stuck at the Martian surface for a year.', 'The following Q&As with members of the team answer some of the most common questions about the burrowing device, part of a science instrument called the Heat Flow and Physical Properties Package (HP3).', 'The leadership council for Mars 2020 science added two new members who represent the interests of scientists destined to handle and study the first samples from Red Planet.', 'Other orbiters will continue relaying data from Mars surface missions for a two-week period.', \"The agency's first step in returning rocks from Mars just arrived at Kennedy Space Center. The Mars 2020 team now begins readying for a launch to the Red Planet this July.\", 'Robotic spacecraft will be able to communicate with the dish using radio waves and lasers.', \"Jim Bridenstine addresses NASA's ambitious plans for the coming years, including Mars Sample Return.\"]\n",
      "-----------\n",
      "['A pair of zoomable cameras will help scientists and rover drivers with high-resolution color images.', \"These are the scientists and engineers who built NASA's next Mars rover and who will guide it to a safe landing in Jezero Crater. \", 'As a longtime fan of space exploration, Vaneeza Rupani appreciates the creativity and collaboration involved with trying to fly on another planet.', \"Vaneeza Rupani's essay was chosen as the name for the small spacecraft, which will mark NASA's first attempt at powered flight on another planet.\", 'Like much of the rest of the world, the Mars rover team is pushing forward with its mission-critical work while putting the health and safety of their colleagues and community first.', \"The mission team performed a crucial weight-balancing test on the rover in preparation for this summer's history-making launch to the Red Planet.\", 'The team has learned to meet new challenges as they work remotely on the Mars mission.', \"The team also fueled the rover's sky crane to get ready for this summer's history-making launch.\", 'After the rover was shipped from JPL to Kennedy Space Center, the team is getting closer to finalizing the spacecraft for launch later this summer.', \"The Mars Helicopter is riding to the Red Planet this summer with NASA's Perseverance rover. The helicopter's chief engineer, Bob Balaram, shares the saga of how it came into being.\", \"As part of NASA's 'Send Your Name to Mars' campaign, they've been stenciled onto three microchips along with essays from NASA's 'Name the Rover' contest. Next stop: Mars.\", 'Along with capturing an image before its steepest ascent ever, the robotic explorer filmed its \"selfie stick,\" or robotic arm, in action.', 'The system will be collecting and storing Martian rock and soil. Its installation marks another milestone in the march toward the July launch period.', 'NASA chose a seventh-grader from Virginia as winner of the agency\\'s \"Name the Rover\" essay contest. Alexander Mather\\'s entry for \"Perseverance\" was voted tops among 28,000 entries. ', 'To go along with the stunning 1.8-billion-pixel image, a new video offers a sweeping view of the Red Planet.', \"After a months-long contest among students to name NASA's newest Mars rover, the agency will reveal the winning name — and the winning student — this Thursday. \", 'The pair of briefcase-sized satellites made history when they sailed past Mars in 2019.', \"A batch of new papers summarizes the lander's findings above and below the surface of the Red Planet.\", 'Engineers have a plan for pushing down on the heat probe, which has been stuck at the Martian surface for a year.', 'The following Q&As with members of the team answer some of the most common questions about the burrowing device, part of a science instrument called the Heat Flow and Physical Properties Package (HP3).', 'The leadership council for Mars 2020 science added two new members who represent the interests of scientists destined to handle and study the first samples from Red Planet.', 'Other orbiters will continue relaying data from Mars surface missions for a two-week period.', \"The agency's first step in returning rocks from Mars just arrived at Kennedy Space Center. The Mars 2020 team now begins readying for a launch to the Red Planet this July.\", 'Robotic spacecraft will be able to communicate with the dish using radio waves and lasers.', \"Jim Bridenstine addresses NASA's ambitious plans for the coming years, including Mars Sample Return.\", 'SuperCam is a rock-vaporizing instrument that will help scientists hunt for Mars fossils.']\n",
      "-----------\n",
      "['A pair of zoomable cameras will help scientists and rover drivers with high-resolution color images.', \"These are the scientists and engineers who built NASA's next Mars rover and who will guide it to a safe landing in Jezero Crater. \", 'As a longtime fan of space exploration, Vaneeza Rupani appreciates the creativity and collaboration involved with trying to fly on another planet.', \"Vaneeza Rupani's essay was chosen as the name for the small spacecraft, which will mark NASA's first attempt at powered flight on another planet.\", 'Like much of the rest of the world, the Mars rover team is pushing forward with its mission-critical work while putting the health and safety of their colleagues and community first.', \"The mission team performed a crucial weight-balancing test on the rover in preparation for this summer's history-making launch to the Red Planet.\", 'The team has learned to meet new challenges as they work remotely on the Mars mission.', \"The team also fueled the rover's sky crane to get ready for this summer's history-making launch.\", 'After the rover was shipped from JPL to Kennedy Space Center, the team is getting closer to finalizing the spacecraft for launch later this summer.', \"The Mars Helicopter is riding to the Red Planet this summer with NASA's Perseverance rover. The helicopter's chief engineer, Bob Balaram, shares the saga of how it came into being.\", \"As part of NASA's 'Send Your Name to Mars' campaign, they've been stenciled onto three microchips along with essays from NASA's 'Name the Rover' contest. Next stop: Mars.\", 'Along with capturing an image before its steepest ascent ever, the robotic explorer filmed its \"selfie stick,\" or robotic arm, in action.', 'The system will be collecting and storing Martian rock and soil. Its installation marks another milestone in the march toward the July launch period.', 'NASA chose a seventh-grader from Virginia as winner of the agency\\'s \"Name the Rover\" essay contest. Alexander Mather\\'s entry for \"Perseverance\" was voted tops among 28,000 entries. ', 'To go along with the stunning 1.8-billion-pixel image, a new video offers a sweeping view of the Red Planet.', \"After a months-long contest among students to name NASA's newest Mars rover, the agency will reveal the winning name — and the winning student — this Thursday. \", 'The pair of briefcase-sized satellites made history when they sailed past Mars in 2019.', \"A batch of new papers summarizes the lander's findings above and below the surface of the Red Planet.\", 'Engineers have a plan for pushing down on the heat probe, which has been stuck at the Martian surface for a year.', 'The following Q&As with members of the team answer some of the most common questions about the burrowing device, part of a science instrument called the Heat Flow and Physical Properties Package (HP3).', 'The leadership council for Mars 2020 science added two new members who represent the interests of scientists destined to handle and study the first samples from Red Planet.', 'Other orbiters will continue relaying data from Mars surface missions for a two-week period.', \"The agency's first step in returning rocks from Mars just arrived at Kennedy Space Center. The Mars 2020 team now begins readying for a launch to the Red Planet this July.\", 'Robotic spacecraft will be able to communicate with the dish using radio waves and lasers.', \"Jim Bridenstine addresses NASA's ambitious plans for the coming years, including Mars Sample Return.\", 'SuperCam is a rock-vaporizing instrument that will help scientists hunt for Mars fossils.', 'NASA’s MAVEN spacecraft has discovered “layers” and “rifts” in the electrically charged part of the upper atmosphere of Mars.']\n",
      "-----------\n",
      "['A pair of zoomable cameras will help scientists and rover drivers with high-resolution color images.', \"These are the scientists and engineers who built NASA's next Mars rover and who will guide it to a safe landing in Jezero Crater. \", 'As a longtime fan of space exploration, Vaneeza Rupani appreciates the creativity and collaboration involved with trying to fly on another planet.', \"Vaneeza Rupani's essay was chosen as the name for the small spacecraft, which will mark NASA's first attempt at powered flight on another planet.\", 'Like much of the rest of the world, the Mars rover team is pushing forward with its mission-critical work while putting the health and safety of their colleagues and community first.', \"The mission team performed a crucial weight-balancing test on the rover in preparation for this summer's history-making launch to the Red Planet.\", 'The team has learned to meet new challenges as they work remotely on the Mars mission.', \"The team also fueled the rover's sky crane to get ready for this summer's history-making launch.\", 'After the rover was shipped from JPL to Kennedy Space Center, the team is getting closer to finalizing the spacecraft for launch later this summer.', \"The Mars Helicopter is riding to the Red Planet this summer with NASA's Perseverance rover. The helicopter's chief engineer, Bob Balaram, shares the saga of how it came into being.\", \"As part of NASA's 'Send Your Name to Mars' campaign, they've been stenciled onto three microchips along with essays from NASA's 'Name the Rover' contest. Next stop: Mars.\", 'Along with capturing an image before its steepest ascent ever, the robotic explorer filmed its \"selfie stick,\" or robotic arm, in action.', 'The system will be collecting and storing Martian rock and soil. Its installation marks another milestone in the march toward the July launch period.', 'NASA chose a seventh-grader from Virginia as winner of the agency\\'s \"Name the Rover\" essay contest. Alexander Mather\\'s entry for \"Perseverance\" was voted tops among 28,000 entries. ', 'To go along with the stunning 1.8-billion-pixel image, a new video offers a sweeping view of the Red Planet.', \"After a months-long contest among students to name NASA's newest Mars rover, the agency will reveal the winning name — and the winning student — this Thursday. \", 'The pair of briefcase-sized satellites made history when they sailed past Mars in 2019.', \"A batch of new papers summarizes the lander's findings above and below the surface of the Red Planet.\", 'Engineers have a plan for pushing down on the heat probe, which has been stuck at the Martian surface for a year.', 'The following Q&As with members of the team answer some of the most common questions about the burrowing device, part of a science instrument called the Heat Flow and Physical Properties Package (HP3).', 'The leadership council for Mars 2020 science added two new members who represent the interests of scientists destined to handle and study the first samples from Red Planet.', 'Other orbiters will continue relaying data from Mars surface missions for a two-week period.', \"The agency's first step in returning rocks from Mars just arrived at Kennedy Space Center. The Mars 2020 team now begins readying for a launch to the Red Planet this July.\", 'Robotic spacecraft will be able to communicate with the dish using radio waves and lasers.', \"Jim Bridenstine addresses NASA's ambitious plans for the coming years, including Mars Sample Return.\", 'SuperCam is a rock-vaporizing instrument that will help scientists hunt for Mars fossils.', 'NASA’s MAVEN spacecraft has discovered “layers” and “rifts” in the electrically charged part of the upper atmosphere of Mars.', \"Nine finalists have been chosen in the essay contest for K-12 students across U.S. to name NASA's next Mars rover. Now you can help by voting for your favorite. \"]\n",
      "-----------\n",
      "['A pair of zoomable cameras will help scientists and rover drivers with high-resolution color images.', \"These are the scientists and engineers who built NASA's next Mars rover and who will guide it to a safe landing in Jezero Crater. \", 'As a longtime fan of space exploration, Vaneeza Rupani appreciates the creativity and collaboration involved with trying to fly on another planet.', \"Vaneeza Rupani's essay was chosen as the name for the small spacecraft, which will mark NASA's first attempt at powered flight on another planet.\", 'Like much of the rest of the world, the Mars rover team is pushing forward with its mission-critical work while putting the health and safety of their colleagues and community first.', \"The mission team performed a crucial weight-balancing test on the rover in preparation for this summer's history-making launch to the Red Planet.\", 'The team has learned to meet new challenges as they work remotely on the Mars mission.', \"The team also fueled the rover's sky crane to get ready for this summer's history-making launch.\", 'After the rover was shipped from JPL to Kennedy Space Center, the team is getting closer to finalizing the spacecraft for launch later this summer.', \"The Mars Helicopter is riding to the Red Planet this summer with NASA's Perseverance rover. The helicopter's chief engineer, Bob Balaram, shares the saga of how it came into being.\", \"As part of NASA's 'Send Your Name to Mars' campaign, they've been stenciled onto three microchips along with essays from NASA's 'Name the Rover' contest. Next stop: Mars.\", 'Along with capturing an image before its steepest ascent ever, the robotic explorer filmed its \"selfie stick,\" or robotic arm, in action.', 'The system will be collecting and storing Martian rock and soil. Its installation marks another milestone in the march toward the July launch period.', 'NASA chose a seventh-grader from Virginia as winner of the agency\\'s \"Name the Rover\" essay contest. Alexander Mather\\'s entry for \"Perseverance\" was voted tops among 28,000 entries. ', 'To go along with the stunning 1.8-billion-pixel image, a new video offers a sweeping view of the Red Planet.', \"After a months-long contest among students to name NASA's newest Mars rover, the agency will reveal the winning name — and the winning student — this Thursday. \", 'The pair of briefcase-sized satellites made history when they sailed past Mars in 2019.', \"A batch of new papers summarizes the lander's findings above and below the surface of the Red Planet.\", 'Engineers have a plan for pushing down on the heat probe, which has been stuck at the Martian surface for a year.', 'The following Q&As with members of the team answer some of the most common questions about the burrowing device, part of a science instrument called the Heat Flow and Physical Properties Package (HP3).', 'The leadership council for Mars 2020 science added two new members who represent the interests of scientists destined to handle and study the first samples from Red Planet.', 'Other orbiters will continue relaying data from Mars surface missions for a two-week period.', \"The agency's first step in returning rocks from Mars just arrived at Kennedy Space Center. The Mars 2020 team now begins readying for a launch to the Red Planet this July.\", 'Robotic spacecraft will be able to communicate with the dish using radio waves and lasers.', \"Jim Bridenstine addresses NASA's ambitious plans for the coming years, including Mars Sample Return.\", 'SuperCam is a rock-vaporizing instrument that will help scientists hunt for Mars fossils.', 'NASA’s MAVEN spacecraft has discovered “layers” and “rifts” in the electrically charged part of the upper atmosphere of Mars.', \"Nine finalists have been chosen in the essay contest for K-12 students across U.S. to name NASA's next Mars rover. Now you can help by voting for your favorite. \", \"155 students from across the U.S. have been chosen as semifinalists in NASA's essay contest to name the Mars 2020 rover, and see it launch from Cape Canaveral this July.\"]\n",
      "-----------\n",
      "['A pair of zoomable cameras will help scientists and rover drivers with high-resolution color images.', \"These are the scientists and engineers who built NASA's next Mars rover and who will guide it to a safe landing in Jezero Crater. \", 'As a longtime fan of space exploration, Vaneeza Rupani appreciates the creativity and collaboration involved with trying to fly on another planet.', \"Vaneeza Rupani's essay was chosen as the name for the small spacecraft, which will mark NASA's first attempt at powered flight on another planet.\", 'Like much of the rest of the world, the Mars rover team is pushing forward with its mission-critical work while putting the health and safety of their colleagues and community first.', \"The mission team performed a crucial weight-balancing test on the rover in preparation for this summer's history-making launch to the Red Planet.\", 'The team has learned to meet new challenges as they work remotely on the Mars mission.', \"The team also fueled the rover's sky crane to get ready for this summer's history-making launch.\", 'After the rover was shipped from JPL to Kennedy Space Center, the team is getting closer to finalizing the spacecraft for launch later this summer.', \"The Mars Helicopter is riding to the Red Planet this summer with NASA's Perseverance rover. The helicopter's chief engineer, Bob Balaram, shares the saga of how it came into being.\", \"As part of NASA's 'Send Your Name to Mars' campaign, they've been stenciled onto three microchips along with essays from NASA's 'Name the Rover' contest. Next stop: Mars.\", 'Along with capturing an image before its steepest ascent ever, the robotic explorer filmed its \"selfie stick,\" or robotic arm, in action.', 'The system will be collecting and storing Martian rock and soil. Its installation marks another milestone in the march toward the July launch period.', 'NASA chose a seventh-grader from Virginia as winner of the agency\\'s \"Name the Rover\" essay contest. Alexander Mather\\'s entry for \"Perseverance\" was voted tops among 28,000 entries. ', 'To go along with the stunning 1.8-billion-pixel image, a new video offers a sweeping view of the Red Planet.', \"After a months-long contest among students to name NASA's newest Mars rover, the agency will reveal the winning name — and the winning student — this Thursday. \", 'The pair of briefcase-sized satellites made history when they sailed past Mars in 2019.', \"A batch of new papers summarizes the lander's findings above and below the surface of the Red Planet.\", 'Engineers have a plan for pushing down on the heat probe, which has been stuck at the Martian surface for a year.', 'The following Q&As with members of the team answer some of the most common questions about the burrowing device, part of a science instrument called the Heat Flow and Physical Properties Package (HP3).', 'The leadership council for Mars 2020 science added two new members who represent the interests of scientists destined to handle and study the first samples from Red Planet.', 'Other orbiters will continue relaying data from Mars surface missions for a two-week period.', \"The agency's first step in returning rocks from Mars just arrived at Kennedy Space Center. The Mars 2020 team now begins readying for a launch to the Red Planet this July.\", 'Robotic spacecraft will be able to communicate with the dish using radio waves and lasers.', \"Jim Bridenstine addresses NASA's ambitious plans for the coming years, including Mars Sample Return.\", 'SuperCam is a rock-vaporizing instrument that will help scientists hunt for Mars fossils.', 'NASA’s MAVEN spacecraft has discovered “layers” and “rifts” in the electrically charged part of the upper atmosphere of Mars.', \"Nine finalists have been chosen in the essay contest for K-12 students across U.S. to name NASA's next Mars rover. Now you can help by voting for your favorite. \", \"155 students from across the U.S. have been chosen as semifinalists in NASA's essay contest to name the Mars 2020 rover, and see it launch from Cape Canaveral this July.\", \"The clean room at NASA's Jet Propulsion Laboratory was open to the media to see NASA's next Mars explorer before it leaves for Florida in preparation for a summertime launch.\"]\n",
      "-----------\n",
      "['A pair of zoomable cameras will help scientists and rover drivers with high-resolution color images.', \"These are the scientists and engineers who built NASA's next Mars rover and who will guide it to a safe landing in Jezero Crater. \", 'As a longtime fan of space exploration, Vaneeza Rupani appreciates the creativity and collaboration involved with trying to fly on another planet.', \"Vaneeza Rupani's essay was chosen as the name for the small spacecraft, which will mark NASA's first attempt at powered flight on another planet.\", 'Like much of the rest of the world, the Mars rover team is pushing forward with its mission-critical work while putting the health and safety of their colleagues and community first.', \"The mission team performed a crucial weight-balancing test on the rover in preparation for this summer's history-making launch to the Red Planet.\", 'The team has learned to meet new challenges as they work remotely on the Mars mission.', \"The team also fueled the rover's sky crane to get ready for this summer's history-making launch.\", 'After the rover was shipped from JPL to Kennedy Space Center, the team is getting closer to finalizing the spacecraft for launch later this summer.', \"The Mars Helicopter is riding to the Red Planet this summer with NASA's Perseverance rover. The helicopter's chief engineer, Bob Balaram, shares the saga of how it came into being.\", \"As part of NASA's 'Send Your Name to Mars' campaign, they've been stenciled onto three microchips along with essays from NASA's 'Name the Rover' contest. Next stop: Mars.\", 'Along with capturing an image before its steepest ascent ever, the robotic explorer filmed its \"selfie stick,\" or robotic arm, in action.', 'The system will be collecting and storing Martian rock and soil. Its installation marks another milestone in the march toward the July launch period.', 'NASA chose a seventh-grader from Virginia as winner of the agency\\'s \"Name the Rover\" essay contest. Alexander Mather\\'s entry for \"Perseverance\" was voted tops among 28,000 entries. ', 'To go along with the stunning 1.8-billion-pixel image, a new video offers a sweeping view of the Red Planet.', \"After a months-long contest among students to name NASA's newest Mars rover, the agency will reveal the winning name — and the winning student — this Thursday. \", 'The pair of briefcase-sized satellites made history when they sailed past Mars in 2019.', \"A batch of new papers summarizes the lander's findings above and below the surface of the Red Planet.\", 'Engineers have a plan for pushing down on the heat probe, which has been stuck at the Martian surface for a year.', 'The following Q&As with members of the team answer some of the most common questions about the burrowing device, part of a science instrument called the Heat Flow and Physical Properties Package (HP3).', 'The leadership council for Mars 2020 science added two new members who represent the interests of scientists destined to handle and study the first samples from Red Planet.', 'Other orbiters will continue relaying data from Mars surface missions for a two-week period.', \"The agency's first step in returning rocks from Mars just arrived at Kennedy Space Center. The Mars 2020 team now begins readying for a launch to the Red Planet this July.\", 'Robotic spacecraft will be able to communicate with the dish using radio waves and lasers.', \"Jim Bridenstine addresses NASA's ambitious plans for the coming years, including Mars Sample Return.\", 'SuperCam is a rock-vaporizing instrument that will help scientists hunt for Mars fossils.', 'NASA’s MAVEN spacecraft has discovered “layers” and “rifts” in the electrically charged part of the upper atmosphere of Mars.', \"Nine finalists have been chosen in the essay contest for K-12 students across U.S. to name NASA's next Mars rover. Now you can help by voting for your favorite. \", \"155 students from across the U.S. have been chosen as semifinalists in NASA's essay contest to name the Mars 2020 rover, and see it launch from Cape Canaveral this July.\", \"The clean room at NASA's Jet Propulsion Laboratory was open to the media to see NASA's next Mars explorer before it leaves for Florida in preparation for a summertime launch.\", \"From rockets to rovers, JPL's Spacecraft Assembly Facility has been at the center of robotic spaceflight. Here's a closer look at what makes it so special.\"]\n",
      "-----------\n",
      "['A pair of zoomable cameras will help scientists and rover drivers with high-resolution color images.', \"These are the scientists and engineers who built NASA's next Mars rover and who will guide it to a safe landing in Jezero Crater. \", 'As a longtime fan of space exploration, Vaneeza Rupani appreciates the creativity and collaboration involved with trying to fly on another planet.', \"Vaneeza Rupani's essay was chosen as the name for the small spacecraft, which will mark NASA's first attempt at powered flight on another planet.\", 'Like much of the rest of the world, the Mars rover team is pushing forward with its mission-critical work while putting the health and safety of their colleagues and community first.', \"The mission team performed a crucial weight-balancing test on the rover in preparation for this summer's history-making launch to the Red Planet.\", 'The team has learned to meet new challenges as they work remotely on the Mars mission.', \"The team also fueled the rover's sky crane to get ready for this summer's history-making launch.\", 'After the rover was shipped from JPL to Kennedy Space Center, the team is getting closer to finalizing the spacecraft for launch later this summer.', \"The Mars Helicopter is riding to the Red Planet this summer with NASA's Perseverance rover. The helicopter's chief engineer, Bob Balaram, shares the saga of how it came into being.\", \"As part of NASA's 'Send Your Name to Mars' campaign, they've been stenciled onto three microchips along with essays from NASA's 'Name the Rover' contest. Next stop: Mars.\", 'Along with capturing an image before its steepest ascent ever, the robotic explorer filmed its \"selfie stick,\" or robotic arm, in action.', 'The system will be collecting and storing Martian rock and soil. Its installation marks another milestone in the march toward the July launch period.', 'NASA chose a seventh-grader from Virginia as winner of the agency\\'s \"Name the Rover\" essay contest. Alexander Mather\\'s entry for \"Perseverance\" was voted tops among 28,000 entries. ', 'To go along with the stunning 1.8-billion-pixel image, a new video offers a sweeping view of the Red Planet.', \"After a months-long contest among students to name NASA's newest Mars rover, the agency will reveal the winning name — and the winning student — this Thursday. \", 'The pair of briefcase-sized satellites made history when they sailed past Mars in 2019.', \"A batch of new papers summarizes the lander's findings above and below the surface of the Red Planet.\", 'Engineers have a plan for pushing down on the heat probe, which has been stuck at the Martian surface for a year.', 'The following Q&As with members of the team answer some of the most common questions about the burrowing device, part of a science instrument called the Heat Flow and Physical Properties Package (HP3).', 'The leadership council for Mars 2020 science added two new members who represent the interests of scientists destined to handle and study the first samples from Red Planet.', 'Other orbiters will continue relaying data from Mars surface missions for a two-week period.', \"The agency's first step in returning rocks from Mars just arrived at Kennedy Space Center. The Mars 2020 team now begins readying for a launch to the Red Planet this July.\", 'Robotic spacecraft will be able to communicate with the dish using radio waves and lasers.', \"Jim Bridenstine addresses NASA's ambitious plans for the coming years, including Mars Sample Return.\", 'SuperCam is a rock-vaporizing instrument that will help scientists hunt for Mars fossils.', 'NASA’s MAVEN spacecraft has discovered “layers” and “rifts” in the electrically charged part of the upper atmosphere of Mars.', \"Nine finalists have been chosen in the essay contest for K-12 students across U.S. to name NASA's next Mars rover. Now you can help by voting for your favorite. \", \"155 students from across the U.S. have been chosen as semifinalists in NASA's essay contest to name the Mars 2020 rover, and see it launch from Cape Canaveral this July.\", \"The clean room at NASA's Jet Propulsion Laboratory was open to the media to see NASA's next Mars explorer before it leaves for Florida in preparation for a summertime launch.\", \"From rockets to rovers, JPL's Spacecraft Assembly Facility has been at the center of robotic spaceflight. Here's a closer look at what makes it so special.\", 'In a 10-plus-hour marathon, the rover steered, turned and drove in 3-foot (1-meter) increments over small ramps.']\n",
      "-----------\n",
      "['A pair of zoomable cameras will help scientists and rover drivers with high-resolution color images.', \"These are the scientists and engineers who built NASA's next Mars rover and who will guide it to a safe landing in Jezero Crater. \", 'As a longtime fan of space exploration, Vaneeza Rupani appreciates the creativity and collaboration involved with trying to fly on another planet.', \"Vaneeza Rupani's essay was chosen as the name for the small spacecraft, which will mark NASA's first attempt at powered flight on another planet.\", 'Like much of the rest of the world, the Mars rover team is pushing forward with its mission-critical work while putting the health and safety of their colleagues and community first.', \"The mission team performed a crucial weight-balancing test on the rover in preparation for this summer's history-making launch to the Red Planet.\", 'The team has learned to meet new challenges as they work remotely on the Mars mission.', \"The team also fueled the rover's sky crane to get ready for this summer's history-making launch.\", 'After the rover was shipped from JPL to Kennedy Space Center, the team is getting closer to finalizing the spacecraft for launch later this summer.', \"The Mars Helicopter is riding to the Red Planet this summer with NASA's Perseverance rover. The helicopter's chief engineer, Bob Balaram, shares the saga of how it came into being.\", \"As part of NASA's 'Send Your Name to Mars' campaign, they've been stenciled onto three microchips along with essays from NASA's 'Name the Rover' contest. Next stop: Mars.\", 'Along with capturing an image before its steepest ascent ever, the robotic explorer filmed its \"selfie stick,\" or robotic arm, in action.', 'The system will be collecting and storing Martian rock and soil. Its installation marks another milestone in the march toward the July launch period.', 'NASA chose a seventh-grader from Virginia as winner of the agency\\'s \"Name the Rover\" essay contest. Alexander Mather\\'s entry for \"Perseverance\" was voted tops among 28,000 entries. ', 'To go along with the stunning 1.8-billion-pixel image, a new video offers a sweeping view of the Red Planet.', \"After a months-long contest among students to name NASA's newest Mars rover, the agency will reveal the winning name — and the winning student — this Thursday. \", 'The pair of briefcase-sized satellites made history when they sailed past Mars in 2019.', \"A batch of new papers summarizes the lander's findings above and below the surface of the Red Planet.\", 'Engineers have a plan for pushing down on the heat probe, which has been stuck at the Martian surface for a year.', 'The following Q&As with members of the team answer some of the most common questions about the burrowing device, part of a science instrument called the Heat Flow and Physical Properties Package (HP3).', 'The leadership council for Mars 2020 science added two new members who represent the interests of scientists destined to handle and study the first samples from Red Planet.', 'Other orbiters will continue relaying data from Mars surface missions for a two-week period.', \"The agency's first step in returning rocks from Mars just arrived at Kennedy Space Center. The Mars 2020 team now begins readying for a launch to the Red Planet this July.\", 'Robotic spacecraft will be able to communicate with the dish using radio waves and lasers.', \"Jim Bridenstine addresses NASA's ambitious plans for the coming years, including Mars Sample Return.\", 'SuperCam is a rock-vaporizing instrument that will help scientists hunt for Mars fossils.', 'NASA’s MAVEN spacecraft has discovered “layers” and “rifts” in the electrically charged part of the upper atmosphere of Mars.', \"Nine finalists have been chosen in the essay contest for K-12 students across U.S. to name NASA's next Mars rover. Now you can help by voting for your favorite. \", \"155 students from across the U.S. have been chosen as semifinalists in NASA's essay contest to name the Mars 2020 rover, and see it launch from Cape Canaveral this July.\", \"The clean room at NASA's Jet Propulsion Laboratory was open to the media to see NASA's next Mars explorer before it leaves for Florida in preparation for a summertime launch.\", \"From rockets to rovers, JPL's Spacecraft Assembly Facility has been at the center of robotic spaceflight. Here's a closer look at what makes it so special.\", 'In a 10-plus-hour marathon, the rover steered, turned and drove in 3-foot (1-meter) increments over small ramps.', 'Researchers have created the first map of wind circulation in the upper atmosphere of a planet besides Earth, using data from NASA’s MAVEN spacecraft that were collected during the last two years.']\n",
      "-----------\n",
      "['A pair of zoomable cameras will help scientists and rover drivers with high-resolution color images.', \"These are the scientists and engineers who built NASA's next Mars rover and who will guide it to a safe landing in Jezero Crater. \", 'As a longtime fan of space exploration, Vaneeza Rupani appreciates the creativity and collaboration involved with trying to fly on another planet.', \"Vaneeza Rupani's essay was chosen as the name for the small spacecraft, which will mark NASA's first attempt at powered flight on another planet.\", 'Like much of the rest of the world, the Mars rover team is pushing forward with its mission-critical work while putting the health and safety of their colleagues and community first.', \"The mission team performed a crucial weight-balancing test on the rover in preparation for this summer's history-making launch to the Red Planet.\", 'The team has learned to meet new challenges as they work remotely on the Mars mission.', \"The team also fueled the rover's sky crane to get ready for this summer's history-making launch.\", 'After the rover was shipped from JPL to Kennedy Space Center, the team is getting closer to finalizing the spacecraft for launch later this summer.', \"The Mars Helicopter is riding to the Red Planet this summer with NASA's Perseverance rover. The helicopter's chief engineer, Bob Balaram, shares the saga of how it came into being.\", \"As part of NASA's 'Send Your Name to Mars' campaign, they've been stenciled onto three microchips along with essays from NASA's 'Name the Rover' contest. Next stop: Mars.\", 'Along with capturing an image before its steepest ascent ever, the robotic explorer filmed its \"selfie stick,\" or robotic arm, in action.', 'The system will be collecting and storing Martian rock and soil. Its installation marks another milestone in the march toward the July launch period.', 'NASA chose a seventh-grader from Virginia as winner of the agency\\'s \"Name the Rover\" essay contest. Alexander Mather\\'s entry for \"Perseverance\" was voted tops among 28,000 entries. ', 'To go along with the stunning 1.8-billion-pixel image, a new video offers a sweeping view of the Red Planet.', \"After a months-long contest among students to name NASA's newest Mars rover, the agency will reveal the winning name — and the winning student — this Thursday. \", 'The pair of briefcase-sized satellites made history when they sailed past Mars in 2019.', \"A batch of new papers summarizes the lander's findings above and below the surface of the Red Planet.\", 'Engineers have a plan for pushing down on the heat probe, which has been stuck at the Martian surface for a year.', 'The following Q&As with members of the team answer some of the most common questions about the burrowing device, part of a science instrument called the Heat Flow and Physical Properties Package (HP3).', 'The leadership council for Mars 2020 science added two new members who represent the interests of scientists destined to handle and study the first samples from Red Planet.', 'Other orbiters will continue relaying data from Mars surface missions for a two-week period.', \"The agency's first step in returning rocks from Mars just arrived at Kennedy Space Center. The Mars 2020 team now begins readying for a launch to the Red Planet this July.\", 'Robotic spacecraft will be able to communicate with the dish using radio waves and lasers.', \"Jim Bridenstine addresses NASA's ambitious plans for the coming years, including Mars Sample Return.\", 'SuperCam is a rock-vaporizing instrument that will help scientists hunt for Mars fossils.', 'NASA’s MAVEN spacecraft has discovered “layers” and “rifts” in the electrically charged part of the upper atmosphere of Mars.', \"Nine finalists have been chosen in the essay contest for K-12 students across U.S. to name NASA's next Mars rover. Now you can help by voting for your favorite. \", \"155 students from across the U.S. have been chosen as semifinalists in NASA's essay contest to name the Mars 2020 rover, and see it launch from Cape Canaveral this July.\", \"The clean room at NASA's Jet Propulsion Laboratory was open to the media to see NASA's next Mars explorer before it leaves for Florida in preparation for a summertime launch.\", \"From rockets to rovers, JPL's Spacecraft Assembly Facility has been at the center of robotic spaceflight. Here's a closer look at what makes it so special.\", 'In a 10-plus-hour marathon, the rover steered, turned and drove in 3-foot (1-meter) increments over small ramps.', 'Researchers have created the first map of wind circulation in the upper atmosphere of a planet besides Earth, using data from NASA’s MAVEN spacecraft that were collected during the last two years.', 'A type of Martian aurora first identified by NASA’s MAVEN spacecraft in 2016 is actually the most common form of aurora occurring on the Red Planet, according to new results from the mission.']\n",
      "-----------\n",
      "['A pair of zoomable cameras will help scientists and rover drivers with high-resolution color images.', \"These are the scientists and engineers who built NASA's next Mars rover and who will guide it to a safe landing in Jezero Crater. \", 'As a longtime fan of space exploration, Vaneeza Rupani appreciates the creativity and collaboration involved with trying to fly on another planet.', \"Vaneeza Rupani's essay was chosen as the name for the small spacecraft, which will mark NASA's first attempt at powered flight on another planet.\", 'Like much of the rest of the world, the Mars rover team is pushing forward with its mission-critical work while putting the health and safety of their colleagues and community first.', \"The mission team performed a crucial weight-balancing test on the rover in preparation for this summer's history-making launch to the Red Planet.\", 'The team has learned to meet new challenges as they work remotely on the Mars mission.', \"The team also fueled the rover's sky crane to get ready for this summer's history-making launch.\", 'After the rover was shipped from JPL to Kennedy Space Center, the team is getting closer to finalizing the spacecraft for launch later this summer.', \"The Mars Helicopter is riding to the Red Planet this summer with NASA's Perseverance rover. The helicopter's chief engineer, Bob Balaram, shares the saga of how it came into being.\", \"As part of NASA's 'Send Your Name to Mars' campaign, they've been stenciled onto three microchips along with essays from NASA's 'Name the Rover' contest. Next stop: Mars.\", 'Along with capturing an image before its steepest ascent ever, the robotic explorer filmed its \"selfie stick,\" or robotic arm, in action.', 'The system will be collecting and storing Martian rock and soil. Its installation marks another milestone in the march toward the July launch period.', 'NASA chose a seventh-grader from Virginia as winner of the agency\\'s \"Name the Rover\" essay contest. Alexander Mather\\'s entry for \"Perseverance\" was voted tops among 28,000 entries. ', 'To go along with the stunning 1.8-billion-pixel image, a new video offers a sweeping view of the Red Planet.', \"After a months-long contest among students to name NASA's newest Mars rover, the agency will reveal the winning name — and the winning student — this Thursday. \", 'The pair of briefcase-sized satellites made history when they sailed past Mars in 2019.', \"A batch of new papers summarizes the lander's findings above and below the surface of the Red Planet.\", 'Engineers have a plan for pushing down on the heat probe, which has been stuck at the Martian surface for a year.', 'The following Q&As with members of the team answer some of the most common questions about the burrowing device, part of a science instrument called the Heat Flow and Physical Properties Package (HP3).', 'The leadership council for Mars 2020 science added two new members who represent the interests of scientists destined to handle and study the first samples from Red Planet.', 'Other orbiters will continue relaying data from Mars surface missions for a two-week period.', \"The agency's first step in returning rocks from Mars just arrived at Kennedy Space Center. The Mars 2020 team now begins readying for a launch to the Red Planet this July.\", 'Robotic spacecraft will be able to communicate with the dish using radio waves and lasers.', \"Jim Bridenstine addresses NASA's ambitious plans for the coming years, including Mars Sample Return.\", 'SuperCam is a rock-vaporizing instrument that will help scientists hunt for Mars fossils.', 'NASA’s MAVEN spacecraft has discovered “layers” and “rifts” in the electrically charged part of the upper atmosphere of Mars.', \"Nine finalists have been chosen in the essay contest for K-12 students across U.S. to name NASA's next Mars rover. Now you can help by voting for your favorite. \", \"155 students from across the U.S. have been chosen as semifinalists in NASA's essay contest to name the Mars 2020 rover, and see it launch from Cape Canaveral this July.\", \"The clean room at NASA's Jet Propulsion Laboratory was open to the media to see NASA's next Mars explorer before it leaves for Florida in preparation for a summertime launch.\", \"From rockets to rovers, JPL's Spacecraft Assembly Facility has been at the center of robotic spaceflight. Here's a closer look at what makes it so special.\", 'In a 10-plus-hour marathon, the rover steered, turned and drove in 3-foot (1-meter) increments over small ramps.', 'Researchers have created the first map of wind circulation in the upper atmosphere of a planet besides Earth, using data from NASA’s MAVEN spacecraft that were collected during the last two years.', 'A type of Martian aurora first identified by NASA’s MAVEN spacecraft in 2016 is actually the most common form of aurora occurring on the Red Planet, according to new results from the mission.', 'A new study identifies frozen water just below the Martian surface, where astronauts could easily dig it up.']\n",
      "-----------\n",
      "['A pair of zoomable cameras will help scientists and rover drivers with high-resolution color images.', \"These are the scientists and engineers who built NASA's next Mars rover and who will guide it to a safe landing in Jezero Crater. \", 'As a longtime fan of space exploration, Vaneeza Rupani appreciates the creativity and collaboration involved with trying to fly on another planet.', \"Vaneeza Rupani's essay was chosen as the name for the small spacecraft, which will mark NASA's first attempt at powered flight on another planet.\", 'Like much of the rest of the world, the Mars rover team is pushing forward with its mission-critical work while putting the health and safety of their colleagues and community first.', \"The mission team performed a crucial weight-balancing test on the rover in preparation for this summer's history-making launch to the Red Planet.\", 'The team has learned to meet new challenges as they work remotely on the Mars mission.', \"The team also fueled the rover's sky crane to get ready for this summer's history-making launch.\", 'After the rover was shipped from JPL to Kennedy Space Center, the team is getting closer to finalizing the spacecraft for launch later this summer.', \"The Mars Helicopter is riding to the Red Planet this summer with NASA's Perseverance rover. The helicopter's chief engineer, Bob Balaram, shares the saga of how it came into being.\", \"As part of NASA's 'Send Your Name to Mars' campaign, they've been stenciled onto three microchips along with essays from NASA's 'Name the Rover' contest. Next stop: Mars.\", 'Along with capturing an image before its steepest ascent ever, the robotic explorer filmed its \"selfie stick,\" or robotic arm, in action.', 'The system will be collecting and storing Martian rock and soil. Its installation marks another milestone in the march toward the July launch period.', 'NASA chose a seventh-grader from Virginia as winner of the agency\\'s \"Name the Rover\" essay contest. Alexander Mather\\'s entry for \"Perseverance\" was voted tops among 28,000 entries. ', 'To go along with the stunning 1.8-billion-pixel image, a new video offers a sweeping view of the Red Planet.', \"After a months-long contest among students to name NASA's newest Mars rover, the agency will reveal the winning name — and the winning student — this Thursday. \", 'The pair of briefcase-sized satellites made history when they sailed past Mars in 2019.', \"A batch of new papers summarizes the lander's findings above and below the surface of the Red Planet.\", 'Engineers have a plan for pushing down on the heat probe, which has been stuck at the Martian surface for a year.', 'The following Q&As with members of the team answer some of the most common questions about the burrowing device, part of a science instrument called the Heat Flow and Physical Properties Package (HP3).', 'The leadership council for Mars 2020 science added two new members who represent the interests of scientists destined to handle and study the first samples from Red Planet.', 'Other orbiters will continue relaying data from Mars surface missions for a two-week period.', \"The agency's first step in returning rocks from Mars just arrived at Kennedy Space Center. The Mars 2020 team now begins readying for a launch to the Red Planet this July.\", 'Robotic spacecraft will be able to communicate with the dish using radio waves and lasers.', \"Jim Bridenstine addresses NASA's ambitious plans for the coming years, including Mars Sample Return.\", 'SuperCam is a rock-vaporizing instrument that will help scientists hunt for Mars fossils.', 'NASA’s MAVEN spacecraft has discovered “layers” and “rifts” in the electrically charged part of the upper atmosphere of Mars.', \"Nine finalists have been chosen in the essay contest for K-12 students across U.S. to name NASA's next Mars rover. Now you can help by voting for your favorite. \", \"155 students from across the U.S. have been chosen as semifinalists in NASA's essay contest to name the Mars 2020 rover, and see it launch from Cape Canaveral this July.\", \"The clean room at NASA's Jet Propulsion Laboratory was open to the media to see NASA's next Mars explorer before it leaves for Florida in preparation for a summertime launch.\", \"From rockets to rovers, JPL's Spacecraft Assembly Facility has been at the center of robotic spaceflight. Here's a closer look at what makes it so special.\", 'In a 10-plus-hour marathon, the rover steered, turned and drove in 3-foot (1-meter) increments over small ramps.', 'Researchers have created the first map of wind circulation in the upper atmosphere of a planet besides Earth, using data from NASA’s MAVEN spacecraft that were collected during the last two years.', 'A type of Martian aurora first identified by NASA’s MAVEN spacecraft in 2016 is actually the most common form of aurora occurring on the Red Planet, according to new results from the mission.', 'A new study identifies frozen water just below the Martian surface, where astronauts could easily dig it up.', 'They look like twins. But under the hood, the rover currently exploring the Red Planet and the one launching there this summer have distinct science tools and roles to play.']\n",
      "-----------\n",
      "['A pair of zoomable cameras will help scientists and rover drivers with high-resolution color images.', \"These are the scientists and engineers who built NASA's next Mars rover and who will guide it to a safe landing in Jezero Crater. \", 'As a longtime fan of space exploration, Vaneeza Rupani appreciates the creativity and collaboration involved with trying to fly on another planet.', \"Vaneeza Rupani's essay was chosen as the name for the small spacecraft, which will mark NASA's first attempt at powered flight on another planet.\", 'Like much of the rest of the world, the Mars rover team is pushing forward with its mission-critical work while putting the health and safety of their colleagues and community first.', \"The mission team performed a crucial weight-balancing test on the rover in preparation for this summer's history-making launch to the Red Planet.\", 'The team has learned to meet new challenges as they work remotely on the Mars mission.', \"The team also fueled the rover's sky crane to get ready for this summer's history-making launch.\", 'After the rover was shipped from JPL to Kennedy Space Center, the team is getting closer to finalizing the spacecraft for launch later this summer.', \"The Mars Helicopter is riding to the Red Planet this summer with NASA's Perseverance rover. The helicopter's chief engineer, Bob Balaram, shares the saga of how it came into being.\", \"As part of NASA's 'Send Your Name to Mars' campaign, they've been stenciled onto three microchips along with essays from NASA's 'Name the Rover' contest. Next stop: Mars.\", 'Along with capturing an image before its steepest ascent ever, the robotic explorer filmed its \"selfie stick,\" or robotic arm, in action.', 'The system will be collecting and storing Martian rock and soil. Its installation marks another milestone in the march toward the July launch period.', 'NASA chose a seventh-grader from Virginia as winner of the agency\\'s \"Name the Rover\" essay contest. Alexander Mather\\'s entry for \"Perseverance\" was voted tops among 28,000 entries. ', 'To go along with the stunning 1.8-billion-pixel image, a new video offers a sweeping view of the Red Planet.', \"After a months-long contest among students to name NASA's newest Mars rover, the agency will reveal the winning name — and the winning student — this Thursday. \", 'The pair of briefcase-sized satellites made history when they sailed past Mars in 2019.', \"A batch of new papers summarizes the lander's findings above and below the surface of the Red Planet.\", 'Engineers have a plan for pushing down on the heat probe, which has been stuck at the Martian surface for a year.', 'The following Q&As with members of the team answer some of the most common questions about the burrowing device, part of a science instrument called the Heat Flow and Physical Properties Package (HP3).', 'The leadership council for Mars 2020 science added two new members who represent the interests of scientists destined to handle and study the first samples from Red Planet.', 'Other orbiters will continue relaying data from Mars surface missions for a two-week period.', \"The agency's first step in returning rocks from Mars just arrived at Kennedy Space Center. The Mars 2020 team now begins readying for a launch to the Red Planet this July.\", 'Robotic spacecraft will be able to communicate with the dish using radio waves and lasers.', \"Jim Bridenstine addresses NASA's ambitious plans for the coming years, including Mars Sample Return.\", 'SuperCam is a rock-vaporizing instrument that will help scientists hunt for Mars fossils.', 'NASA’s MAVEN spacecraft has discovered “layers” and “rifts” in the electrically charged part of the upper atmosphere of Mars.', \"Nine finalists have been chosen in the essay contest for K-12 students across U.S. to name NASA's next Mars rover. Now you can help by voting for your favorite. \", \"155 students from across the U.S. have been chosen as semifinalists in NASA's essay contest to name the Mars 2020 rover, and see it launch from Cape Canaveral this July.\", \"The clean room at NASA's Jet Propulsion Laboratory was open to the media to see NASA's next Mars explorer before it leaves for Florida in preparation for a summertime launch.\", \"From rockets to rovers, JPL's Spacecraft Assembly Facility has been at the center of robotic spaceflight. Here's a closer look at what makes it so special.\", 'In a 10-plus-hour marathon, the rover steered, turned and drove in 3-foot (1-meter) increments over small ramps.', 'Researchers have created the first map of wind circulation in the upper atmosphere of a planet besides Earth, using data from NASA’s MAVEN spacecraft that were collected during the last two years.', 'A type of Martian aurora first identified by NASA’s MAVEN spacecraft in 2016 is actually the most common form of aurora occurring on the Red Planet, according to new results from the mission.', 'A new study identifies frozen water just below the Martian surface, where astronauts could easily dig it up.', 'They look like twins. But under the hood, the rover currently exploring the Red Planet and the one launching there this summer have distinct science tools and roles to play.', 'The twin spacecraft, the first of their kind to fly into deep space, earn a Laureate from Aviation Week & Space Technology.']\n",
      "-----------\n",
      "['A pair of zoomable cameras will help scientists and rover drivers with high-resolution color images.', \"These are the scientists and engineers who built NASA's next Mars rover and who will guide it to a safe landing in Jezero Crater. \", 'As a longtime fan of space exploration, Vaneeza Rupani appreciates the creativity and collaboration involved with trying to fly on another planet.', \"Vaneeza Rupani's essay was chosen as the name for the small spacecraft, which will mark NASA's first attempt at powered flight on another planet.\", 'Like much of the rest of the world, the Mars rover team is pushing forward with its mission-critical work while putting the health and safety of their colleagues and community first.', \"The mission team performed a crucial weight-balancing test on the rover in preparation for this summer's history-making launch to the Red Planet.\", 'The team has learned to meet new challenges as they work remotely on the Mars mission.', \"The team also fueled the rover's sky crane to get ready for this summer's history-making launch.\", 'After the rover was shipped from JPL to Kennedy Space Center, the team is getting closer to finalizing the spacecraft for launch later this summer.', \"The Mars Helicopter is riding to the Red Planet this summer with NASA's Perseverance rover. The helicopter's chief engineer, Bob Balaram, shares the saga of how it came into being.\", \"As part of NASA's 'Send Your Name to Mars' campaign, they've been stenciled onto three microchips along with essays from NASA's 'Name the Rover' contest. Next stop: Mars.\", 'Along with capturing an image before its steepest ascent ever, the robotic explorer filmed its \"selfie stick,\" or robotic arm, in action.', 'The system will be collecting and storing Martian rock and soil. Its installation marks another milestone in the march toward the July launch period.', 'NASA chose a seventh-grader from Virginia as winner of the agency\\'s \"Name the Rover\" essay contest. Alexander Mather\\'s entry for \"Perseverance\" was voted tops among 28,000 entries. ', 'To go along with the stunning 1.8-billion-pixel image, a new video offers a sweeping view of the Red Planet.', \"After a months-long contest among students to name NASA's newest Mars rover, the agency will reveal the winning name — and the winning student — this Thursday. \", 'The pair of briefcase-sized satellites made history when they sailed past Mars in 2019.', \"A batch of new papers summarizes the lander's findings above and below the surface of the Red Planet.\", 'Engineers have a plan for pushing down on the heat probe, which has been stuck at the Martian surface for a year.', 'The following Q&As with members of the team answer some of the most common questions about the burrowing device, part of a science instrument called the Heat Flow and Physical Properties Package (HP3).', 'The leadership council for Mars 2020 science added two new members who represent the interests of scientists destined to handle and study the first samples from Red Planet.', 'Other orbiters will continue relaying data from Mars surface missions for a two-week period.', \"The agency's first step in returning rocks from Mars just arrived at Kennedy Space Center. The Mars 2020 team now begins readying for a launch to the Red Planet this July.\", 'Robotic spacecraft will be able to communicate with the dish using radio waves and lasers.', \"Jim Bridenstine addresses NASA's ambitious plans for the coming years, including Mars Sample Return.\", 'SuperCam is a rock-vaporizing instrument that will help scientists hunt for Mars fossils.', 'NASA’s MAVEN spacecraft has discovered “layers” and “rifts” in the electrically charged part of the upper atmosphere of Mars.', \"Nine finalists have been chosen in the essay contest for K-12 students across U.S. to name NASA's next Mars rover. Now you can help by voting for your favorite. \", \"155 students from across the U.S. have been chosen as semifinalists in NASA's essay contest to name the Mars 2020 rover, and see it launch from Cape Canaveral this July.\", \"The clean room at NASA's Jet Propulsion Laboratory was open to the media to see NASA's next Mars explorer before it leaves for Florida in preparation for a summertime launch.\", \"From rockets to rovers, JPL's Spacecraft Assembly Facility has been at the center of robotic spaceflight. Here's a closer look at what makes it so special.\", 'In a 10-plus-hour marathon, the rover steered, turned and drove in 3-foot (1-meter) increments over small ramps.', 'Researchers have created the first map of wind circulation in the upper atmosphere of a planet besides Earth, using data from NASA’s MAVEN spacecraft that were collected during the last two years.', 'A type of Martian aurora first identified by NASA’s MAVEN spacecraft in 2016 is actually the most common form of aurora occurring on the Red Planet, according to new results from the mission.', 'A new study identifies frozen water just below the Martian surface, where astronauts could easily dig it up.', 'They look like twins. But under the hood, the rover currently exploring the Red Planet and the one launching there this summer have distinct science tools and roles to play.', 'The twin spacecraft, the first of their kind to fly into deep space, earn a Laureate from Aviation Week & Space Technology.', 'A Mars Dust Tower Stands Out Dust storms are common on Mars. But every decade or so, something unpredictable happens: a series of runaway storms break out, covering the entire planet in a dusty haze.']\n",
      "-----------\n",
      "['A pair of zoomable cameras will help scientists and rover drivers with high-resolution color images.', \"These are the scientists and engineers who built NASA's next Mars rover and who will guide it to a safe landing in Jezero Crater. \", 'As a longtime fan of space exploration, Vaneeza Rupani appreciates the creativity and collaboration involved with trying to fly on another planet.', \"Vaneeza Rupani's essay was chosen as the name for the small spacecraft, which will mark NASA's first attempt at powered flight on another planet.\", 'Like much of the rest of the world, the Mars rover team is pushing forward with its mission-critical work while putting the health and safety of their colleagues and community first.', \"The mission team performed a crucial weight-balancing test on the rover in preparation for this summer's history-making launch to the Red Planet.\", 'The team has learned to meet new challenges as they work remotely on the Mars mission.', \"The team also fueled the rover's sky crane to get ready for this summer's history-making launch.\", 'After the rover was shipped from JPL to Kennedy Space Center, the team is getting closer to finalizing the spacecraft for launch later this summer.', \"The Mars Helicopter is riding to the Red Planet this summer with NASA's Perseverance rover. The helicopter's chief engineer, Bob Balaram, shares the saga of how it came into being.\", \"As part of NASA's 'Send Your Name to Mars' campaign, they've been stenciled onto three microchips along with essays from NASA's 'Name the Rover' contest. Next stop: Mars.\", 'Along with capturing an image before its steepest ascent ever, the robotic explorer filmed its \"selfie stick,\" or robotic arm, in action.', 'The system will be collecting and storing Martian rock and soil. Its installation marks another milestone in the march toward the July launch period.', 'NASA chose a seventh-grader from Virginia as winner of the agency\\'s \"Name the Rover\" essay contest. Alexander Mather\\'s entry for \"Perseverance\" was voted tops among 28,000 entries. ', 'To go along with the stunning 1.8-billion-pixel image, a new video offers a sweeping view of the Red Planet.', \"After a months-long contest among students to name NASA's newest Mars rover, the agency will reveal the winning name — and the winning student — this Thursday. \", 'The pair of briefcase-sized satellites made history when they sailed past Mars in 2019.', \"A batch of new papers summarizes the lander's findings above and below the surface of the Red Planet.\", 'Engineers have a plan for pushing down on the heat probe, which has been stuck at the Martian surface for a year.', 'The following Q&As with members of the team answer some of the most common questions about the burrowing device, part of a science instrument called the Heat Flow and Physical Properties Package (HP3).', 'The leadership council for Mars 2020 science added two new members who represent the interests of scientists destined to handle and study the first samples from Red Planet.', 'Other orbiters will continue relaying data from Mars surface missions for a two-week period.', \"The agency's first step in returning rocks from Mars just arrived at Kennedy Space Center. The Mars 2020 team now begins readying for a launch to the Red Planet this July.\", 'Robotic spacecraft will be able to communicate with the dish using radio waves and lasers.', \"Jim Bridenstine addresses NASA's ambitious plans for the coming years, including Mars Sample Return.\", 'SuperCam is a rock-vaporizing instrument that will help scientists hunt for Mars fossils.', 'NASA’s MAVEN spacecraft has discovered “layers” and “rifts” in the electrically charged part of the upper atmosphere of Mars.', \"Nine finalists have been chosen in the essay contest for K-12 students across U.S. to name NASA's next Mars rover. Now you can help by voting for your favorite. \", \"155 students from across the U.S. have been chosen as semifinalists in NASA's essay contest to name the Mars 2020 rover, and see it launch from Cape Canaveral this July.\", \"The clean room at NASA's Jet Propulsion Laboratory was open to the media to see NASA's next Mars explorer before it leaves for Florida in preparation for a summertime launch.\", \"From rockets to rovers, JPL's Spacecraft Assembly Facility has been at the center of robotic spaceflight. Here's a closer look at what makes it so special.\", 'In a 10-plus-hour marathon, the rover steered, turned and drove in 3-foot (1-meter) increments over small ramps.', 'Researchers have created the first map of wind circulation in the upper atmosphere of a planet besides Earth, using data from NASA’s MAVEN spacecraft that were collected during the last two years.', 'A type of Martian aurora first identified by NASA’s MAVEN spacecraft in 2016 is actually the most common form of aurora occurring on the Red Planet, according to new results from the mission.', 'A new study identifies frozen water just below the Martian surface, where astronauts could easily dig it up.', 'They look like twins. But under the hood, the rover currently exploring the Red Planet and the one launching there this summer have distinct science tools and roles to play.', 'The twin spacecraft, the first of their kind to fly into deep space, earn a Laureate from Aviation Week & Space Technology.', 'A Mars Dust Tower Stands Out Dust storms are common on Mars. But every decade or so, something unpredictable happens: a series of runaway storms break out, covering the entire planet in a dusty haze.', 'NASA and the Department of Energy have completed a more detailed risk analysis for the Mars 2020 rover launch from Florida.']\n",
      "-----------\n",
      "['A pair of zoomable cameras will help scientists and rover drivers with high-resolution color images.', \"These are the scientists and engineers who built NASA's next Mars rover and who will guide it to a safe landing in Jezero Crater. \", 'As a longtime fan of space exploration, Vaneeza Rupani appreciates the creativity and collaboration involved with trying to fly on another planet.', \"Vaneeza Rupani's essay was chosen as the name for the small spacecraft, which will mark NASA's first attempt at powered flight on another planet.\", 'Like much of the rest of the world, the Mars rover team is pushing forward with its mission-critical work while putting the health and safety of their colleagues and community first.', \"The mission team performed a crucial weight-balancing test on the rover in preparation for this summer's history-making launch to the Red Planet.\", 'The team has learned to meet new challenges as they work remotely on the Mars mission.', \"The team also fueled the rover's sky crane to get ready for this summer's history-making launch.\", 'After the rover was shipped from JPL to Kennedy Space Center, the team is getting closer to finalizing the spacecraft for launch later this summer.', \"The Mars Helicopter is riding to the Red Planet this summer with NASA's Perseverance rover. The helicopter's chief engineer, Bob Balaram, shares the saga of how it came into being.\", \"As part of NASA's 'Send Your Name to Mars' campaign, they've been stenciled onto three microchips along with essays from NASA's 'Name the Rover' contest. Next stop: Mars.\", 'Along with capturing an image before its steepest ascent ever, the robotic explorer filmed its \"selfie stick,\" or robotic arm, in action.', 'The system will be collecting and storing Martian rock and soil. Its installation marks another milestone in the march toward the July launch period.', 'NASA chose a seventh-grader from Virginia as winner of the agency\\'s \"Name the Rover\" essay contest. Alexander Mather\\'s entry for \"Perseverance\" was voted tops among 28,000 entries. ', 'To go along with the stunning 1.8-billion-pixel image, a new video offers a sweeping view of the Red Planet.', \"After a months-long contest among students to name NASA's newest Mars rover, the agency will reveal the winning name — and the winning student — this Thursday. \", 'The pair of briefcase-sized satellites made history when they sailed past Mars in 2019.', \"A batch of new papers summarizes the lander's findings above and below the surface of the Red Planet.\", 'Engineers have a plan for pushing down on the heat probe, which has been stuck at the Martian surface for a year.', 'The following Q&As with members of the team answer some of the most common questions about the burrowing device, part of a science instrument called the Heat Flow and Physical Properties Package (HP3).', 'The leadership council for Mars 2020 science added two new members who represent the interests of scientists destined to handle and study the first samples from Red Planet.', 'Other orbiters will continue relaying data from Mars surface missions for a two-week period.', \"The agency's first step in returning rocks from Mars just arrived at Kennedy Space Center. The Mars 2020 team now begins readying for a launch to the Red Planet this July.\", 'Robotic spacecraft will be able to communicate with the dish using radio waves and lasers.', \"Jim Bridenstine addresses NASA's ambitious plans for the coming years, including Mars Sample Return.\", 'SuperCam is a rock-vaporizing instrument that will help scientists hunt for Mars fossils.', 'NASA’s MAVEN spacecraft has discovered “layers” and “rifts” in the electrically charged part of the upper atmosphere of Mars.', \"Nine finalists have been chosen in the essay contest for K-12 students across U.S. to name NASA's next Mars rover. Now you can help by voting for your favorite. \", \"155 students from across the U.S. have been chosen as semifinalists in NASA's essay contest to name the Mars 2020 rover, and see it launch from Cape Canaveral this July.\", \"The clean room at NASA's Jet Propulsion Laboratory was open to the media to see NASA's next Mars explorer before it leaves for Florida in preparation for a summertime launch.\", \"From rockets to rovers, JPL's Spacecraft Assembly Facility has been at the center of robotic spaceflight. Here's a closer look at what makes it so special.\", 'In a 10-plus-hour marathon, the rover steered, turned and drove in 3-foot (1-meter) increments over small ramps.', 'Researchers have created the first map of wind circulation in the upper atmosphere of a planet besides Earth, using data from NASA’s MAVEN spacecraft that were collected during the last two years.', 'A type of Martian aurora first identified by NASA’s MAVEN spacecraft in 2016 is actually the most common form of aurora occurring on the Red Planet, according to new results from the mission.', 'A new study identifies frozen water just below the Martian surface, where astronauts could easily dig it up.', 'They look like twins. But under the hood, the rover currently exploring the Red Planet and the one launching there this summer have distinct science tools and roles to play.', 'The twin spacecraft, the first of their kind to fly into deep space, earn a Laureate from Aviation Week & Space Technology.', 'A Mars Dust Tower Stands Out Dust storms are common on Mars. But every decade or so, something unpredictable happens: a series of runaway storms break out, covering the entire planet in a dusty haze.', 'NASA and the Department of Energy have completed a more detailed risk analysis for the Mars 2020 rover launch from Florida.', 'Apollo 12 and the upcoming Mars 2020 mission may be separated by half a century, but they share several goals unique in the annals of space exploration.']\n"
     ]
    }
   ],
   "source": [
    "    blurb =[]\n",
    "    \n",
    "    for article in articles:\n",
    "        # Use Beautiful Soup's find() method to navigate and retrieve attributes\n",
    "        b = article.find('div', class_ = \"article_teaser_body\").text\n",
    "        blurb.append(b)\n",
    "        print('-----------')\n",
    "        print(blurb)\n",
    "\n",
    "\n",
    "#     # Click the 'Next' button on each page\n",
    "#     try:\n",
    "#         browser.click_link_by_partial_text('next')\n",
    "          \n",
    "#     except:\n",
    "#         print(\"Scraping Complete\")\n"
   ]
  },
  {
   "cell_type": "code",
   "execution_count": 52,
   "metadata": {},
   "outputs": [
    {
     "data": {
      "text/plain": [
       "'A pair of zoomable cameras will help scientists and rover drivers with high-resolution color images.'"
      ]
     },
     "execution_count": 52,
     "metadata": {},
     "output_type": "execute_result"
    }
   ],
   "source": [
    "blurb[0]"
   ]
  },
  {
   "cell_type": "code",
   "execution_count": 53,
   "metadata": {},
   "outputs": [
    {
     "data": {
      "text/plain": [
       "\"NASA's Perseverance Rover Will Look at Mars Through These 'Eyes'\""
      ]
     },
     "execution_count": 53,
     "metadata": {},
     "output_type": "execute_result"
    }
   ],
   "source": [
    "news_title = titles[0]\n",
    "\n",
    "news_title\n"
   ]
  },
  {
   "cell_type": "code",
   "execution_count": 10,
   "metadata": {},
   "outputs": [
    {
     "data": {
      "text/plain": [
       "'A pair of zoomable cameras will help scientists and rover drivers with high-resolution color images.'"
      ]
     },
     "execution_count": 10,
     "metadata": {},
     "output_type": "execute_result"
    }
   ],
   "source": [
    "news_p = blurb[0]\n",
    "news_p"
   ]
  },
  {
   "cell_type": "code",
   "execution_count": 136,
   "metadata": {},
   "outputs": [],
   "source": [
    "# URL of page to be scraped\n",
    "url = 'https://www.jpl.nasa.gov/spaceimages/?search=&category=Mars'\n",
    "browser.visit(url)\n",
    "import time\n",
    "time.sleep(10)\n",
    "html2 = browser.html\n",
    "# Parse HTML with Beautiful Soup\n",
    "soup2 = BeautifulSoup(html2, 'html.parser')"
   ]
  },
  {
   "cell_type": "code",
   "execution_count": 137,
   "metadata": {},
   "outputs": [
    {
     "data": {
      "text/plain": [
       "[<div class=\"carousel_items\">\n",
       " <article alt=\"The Ares 3 Landing Site: Where Science Fact Meets Fiction\" class=\"carousel_item\" style=\"background-image: url('/spaceimages/images/wallpaper/PIA19913-1920x1200.jpg');\">\n",
       " <div class=\"default floating_text_area ms-layer\">\n",
       " <h2 class=\"category_title\">\n",
       " </h2>\n",
       " <h2 class=\"brand_title\">\n",
       " \t\t\t\t  FEATURED IMAGE\n",
       " \t\t\t\t</h2>\n",
       " <h1 class=\"media_feature_title\">\n",
       " \t\t\t\t  The Ares 3 Landing Site: Where Science Fact Meets Fiction\t\t\t\t</h1>\n",
       " <div class=\"description\">\n",
       " </div>\n",
       " <footer>\n",
       " <a class=\"button fancybox\" data-description=\"This image from NASA's Mars Reconnaissance Orbiter shows a location on Mars associated with the best-selling novel and Hollywood movie, 'The Martian.' This area is in the Acidalia Planitia region.\" data-fancybox-group=\"images\" data-fancybox-href=\"/spaceimages/images/mediumsize/PIA19913_ip.jpg\" data-link=\"/spaceimages/details.php?id=PIA19913\" data-title=\"The Ares 3 Landing Site: Where Science Fact Meets Fiction\" id=\"full_image\">\n",
       " \t\t\t\t\tFULL IMAGE\n",
       " \t\t\t\t  </a>\n",
       " </footer>\n",
       " </div>\n",
       " <div class=\"gradient_container_top\"></div>\n",
       " <div class=\"gradient_container_bottom\"></div>\n",
       " </article>\n",
       " </div>]"
      ]
     },
     "execution_count": 137,
     "metadata": {},
     "output_type": "execute_result"
    }
   ],
   "source": [
    "\n",
    "# Retrieve image file\n",
    "image_file = soup2.find_all(\"div\", class_=\"carousel_items\")\n",
    "image_file"
   ]
  },
  {
   "cell_type": "code",
   "execution_count": 142,
   "metadata": {},
   "outputs": [],
   "source": [
    "next_page = browser.click_link_by_partial_text('FULL IMAGE')\n"
   ]
  },
  {
   "cell_type": "code",
   "execution_count": 143,
   "metadata": {},
   "outputs": [],
   "source": [
    "next_next_page = browser.click_link_by_partial_text('more info')"
   ]
  },
  {
   "cell_type": "code",
   "execution_count": 148,
   "metadata": {},
   "outputs": [],
   "source": [
    "full_res_jpeg_page = browser.click_link_by_partial_text('jpg')"
   ]
  },
  {
   "cell_type": "code",
   "execution_count": 154,
   "metadata": {},
   "outputs": [],
   "source": [
    "full_res_html = browser.html\n",
    "soup_full_res = BeautifulSoup(full_res_html, 'html.parser')"
   ]
  },
  {
   "cell_type": "code",
   "execution_count": 158,
   "metadata": {},
   "outputs": [
    {
     "data": {
      "text/plain": [
       "'https://photojournal.jpl.nasa.gov/jpeg/PIA19913.jpg'"
      ]
     },
     "execution_count": 158,
     "metadata": {},
     "output_type": "execute_result"
    }
   ],
   "source": [
    "featured_image_url =soup_full_res.find('img')['src']\n",
    "featured_image_url"
   ]
  },
  {
   "cell_type": "code",
   "execution_count": 159,
   "metadata": {},
   "outputs": [],
   "source": [
    "# URL of page to be scraped\n",
    "url_weather = 'https://twitter.com/marswxreport?lang=en'\n",
    "browser.visit(url_weather)\n",
    "\n",
    "time.sleep(10)\n",
    "html_weather = browser.html\n",
    "# Parse HTML with Beautiful Soup\n",
    "soup_weather = BeautifulSoup(html_weather, 'html.parser')"
   ]
  },
  {
   "cell_type": "code",
   "execution_count": 167,
   "metadata": {},
   "outputs": [
    {
     "data": {
      "text/plain": [
       "'InSight sol 511 (2020-05-04) low -93.2ºC (-135.8ºF) high -3.6ºC (25.5ºF)\\nwinds from the SW at 4.9 m/s (11.0 mph) gusting to 16.8 m/s (37.6 mph)\\npressure at 6.80 hPa'"
      ]
     },
     "execution_count": 167,
     "metadata": {},
     "output_type": "execute_result"
    }
   ],
   "source": [
    "mars_weather=soup_weather.find('div', class_ ='css-901oao r-hkyrab r-1qd0xha r-a023e6 r-16dba41 r-ad9z0x r-bcqeeo r-bnwqim r-qvutc0').text\n",
    "mars_weather"
   ]
  },
  {
   "cell_type": "code",
   "execution_count": null,
   "metadata": {},
   "outputs": [],
   "source": [
    "\n",
    "\n",
    "\n",
    "# images =[]\n",
    "    \n",
    "# for image in images:\n",
    "#         # Use Beautiful Soup's find() method to navigate and retrieve attributes\n",
    "#         img = image.find('h2')\n",
    "#         print('-----------')\n",
    "#         print(images)\n",
    "\n",
    "\n",
    "# img_file_extract= image_file.find_all(\"h1\").text\n",
    "# img_file_extract\n",
    "\n",
    "# images\n",
    "\n",
    "images =[]\n",
    "    \n",
    "for file in image_file:\n",
    "        # Use Beautiful Soup's find() method to navigate and retrieve attributes\n",
    "        i = file.find('article').get('style')\n",
    "        images.append(i)\n",
    "        print('-----------')\n",
    "        print(images)\n"
   ]
  },
  {
   "cell_type": "code",
   "execution_count": null,
   "metadata": {},
   "outputs": [],
   "source": []
  },
  {
   "cell_type": "code",
   "execution_count": null,
   "metadata": {},
   "outputs": [],
   "source": []
  },
  {
   "cell_type": "code",
   "execution_count": null,
   "metadata": {},
   "outputs": [],
   "source": []
  },
  {
   "cell_type": "code",
   "execution_count": null,
   "metadata": {},
   "outputs": [],
   "source": []
  },
  {
   "cell_type": "code",
   "execution_count": null,
   "metadata": {},
   "outputs": [],
   "source": []
  },
  {
   "cell_type": "code",
   "execution_count": null,
   "metadata": {},
   "outputs": [],
   "source": []
  },
  {
   "cell_type": "code",
   "execution_count": 13,
   "metadata": {},
   "outputs": [],
   "source": [
    "# URL of page to be scraped\n",
    "url = 'https://mars.nasa.gov/news/?page=0&per_page=40&order=publish_date+desc%2Ccreated_at+desc&search=&category=19%2C165%2C184%2C204&blank_scope=Latest'"
   ]
  },
  {
   "cell_type": "code",
   "execution_count": 14,
   "metadata": {},
   "outputs": [],
   "source": [
    "# Retrieve page with the requests module\n",
    "response = requests.get(url)"
   ]
  },
  {
   "cell_type": "code",
   "execution_count": 15,
   "metadata": {},
   "outputs": [],
   "source": [
    "# Create BeautifulSoup object; parse with 'html.parser'\n",
    "soup = BeautifulSoup(response.text, 'lxml')"
   ]
  },
  {
   "cell_type": "code",
   "execution_count": 16,
   "metadata": {},
   "outputs": [
    {
     "ename": "SyntaxError",
     "evalue": "invalid syntax (<ipython-input-16-1c72e11ba542>, line 2)",
     "output_type": "error",
     "traceback": [
      "\u001b[1;36m  File \u001b[1;32m\"<ipython-input-16-1c72e11ba542>\"\u001b[1;36m, line \u001b[1;32m2\u001b[0m\n\u001b[1;33m    |\u001b[0m\n\u001b[1;37m    ^\u001b[0m\n\u001b[1;31mSyntaxError\u001b[0m\u001b[1;31m:\u001b[0m invalid syntax\n"
     ]
    }
   ],
   "source": [
    "# Examine the results, then determine element that contains sought info\n",
    "|"
   ]
  },
  {
   "cell_type": "code",
   "execution_count": null,
   "metadata": {},
   "outputs": [],
   "source": [
    "str(soup) == str(html)"
   ]
  },
  {
   "cell_type": "code",
   "execution_count": null,
   "metadata": {},
   "outputs": [],
   "source": [
    "str(soup) == str(html2)"
   ]
  },
  {
   "cell_type": "code",
   "execution_count": null,
   "metadata": {},
   "outputs": [],
   "source": []
  },
  {
   "cell_type": "code",
   "execution_count": null,
   "metadata": {},
   "outputs": [],
   "source": []
  },
  {
   "cell_type": "code",
   "execution_count": null,
   "metadata": {},
   "outputs": [],
   "source": []
  },
  {
   "cell_type": "code",
   "execution_count": null,
   "metadata": {},
   "outputs": [],
   "source": []
  },
  {
   "cell_type": "code",
   "execution_count": null,
   "metadata": {},
   "outputs": [],
   "source": []
  },
  {
   "cell_type": "code",
   "execution_count": null,
   "metadata": {},
   "outputs": [],
   "source": []
  },
  {
   "cell_type": "code",
   "execution_count": null,
   "metadata": {},
   "outputs": [],
   "source": []
  },
  {
   "cell_type": "code",
   "execution_count": null,
   "metadata": {},
   "outputs": [],
   "source": []
  },
  {
   "cell_type": "code",
   "execution_count": null,
   "metadata": {},
   "outputs": [],
   "source": []
  },
  {
   "cell_type": "code",
   "execution_count": null,
   "metadata": {},
   "outputs": [],
   "source": []
  },
  {
   "cell_type": "code",
   "execution_count": null,
   "metadata": {},
   "outputs": [],
   "source": [
    "# Retrieve page with the requests module\n",
    "browser.visit(url)"
   ]
  },
  {
   "cell_type": "code",
   "execution_count": null,
   "metadata": {},
   "outputs": [],
   "source": [
    "# Create BeautifulSoup object; parse with 'html.parser'\n",
    "soup = BeautifulSoup(response.text, 'html.parser')"
   ]
  },
  {
   "cell_type": "code",
   "execution_count": null,
   "metadata": {},
   "outputs": [],
   "source": [
    "# Examine the results, then determine element that contains sought info\n",
    "print(soup.prettify())"
   ]
  },
  {
   "cell_type": "code",
   "execution_count": null,
   "metadata": {},
   "outputs": [],
   "source": [
    "# results are returned as an iterable list\n",
    "results = soup.find_all('li', class_=\"slide\")"
   ]
  },
  {
   "cell_type": "code",
   "execution_count": null,
   "metadata": {},
   "outputs": [],
   "source": [
    "for result in results:\n",
    "    # Error handling\n",
    "    try:\n",
    "        # Identify and return title of listing\n",
    "        title = result.find('a href', class_=\"content_title\").text\n",
    "        # Identify and return price of listing\n",
    "#         summary_text = result.a.target.text\n",
    "\n",
    "        # Print results only if title, price, and link are available\n",
    "        if (title):\n",
    "            print('-------------')\n",
    "            print(title)\n",
    "#             print(summary_text)\n",
    "    except AttributeError as e:\n",
    "        print(e)"
   ]
  },
  {
   "cell_type": "code",
   "execution_count": null,
   "metadata": {},
   "outputs": [],
   "source": []
  },
  {
   "cell_type": "code",
   "execution_count": null,
   "metadata": {},
   "outputs": [],
   "source": []
  }
 ],
 "metadata": {
  "kernelspec": {
   "display_name": "Python 3",
   "language": "python",
   "name": "python3"
  },
  "language_info": {
   "codemirror_mode": {
    "name": "ipython",
    "version": 3
   },
   "file_extension": ".py",
   "mimetype": "text/x-python",
   "name": "python",
   "nbconvert_exporter": "python",
   "pygments_lexer": "ipython3",
   "version": "3.7.4"
  }
 },
 "nbformat": 4,
 "nbformat_minor": 2
}
